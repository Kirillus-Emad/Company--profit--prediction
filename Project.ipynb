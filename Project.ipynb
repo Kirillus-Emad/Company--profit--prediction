{
 "cells": [
  {
   "cell_type": "code",
   "execution_count": 675,
   "id": "175b6e79",
   "metadata": {},
   "outputs": [],
   "source": [
    "# import our needed libraries\n",
    "import pandas as pd\n",
    "import numpy as np\n",
    "import matplotlib.pyplot as plt\n",
    "import seaborn as sns\n",
    "from sklearn.preprocessing import StandardScaler,LabelEncoder,PolynomialFeatures\n",
    "from sklearn.linear_model import LinearRegression,Ridge,Lasso\n",
    "from sklearn.tree import DecisionTreeRegressor\n",
    "from sklearn.ensemble import RandomForestRegressor,AdaBoostRegressor,GradientBoostingRegressor\n",
    "from xgboost import XGBRFRegressor\n",
    "from sklearn.neighbors import KNeighborsRegressor\n",
    "from sklearn.svm import SVR\n",
    "from sklearn.model_selection import train_test_split,GridSearchCV\n",
    "from sklearn.metrics import r2_score,mean_squared_error,mean_absolute_error,root_mean_squared_error\n",
    "import re\n"
   ]
  },
  {
   "cell_type": "code",
   "execution_count": 676,
   "id": "89f2e1e0",
   "metadata": {},
   "outputs": [
    {
     "data": {
      "text/html": [
       "<div>\n",
       "<style scoped>\n",
       "    .dataframe tbody tr th:only-of-type {\n",
       "        vertical-align: middle;\n",
       "    }\n",
       "\n",
       "    .dataframe tbody tr th {\n",
       "        vertical-align: top;\n",
       "    }\n",
       "\n",
       "    .dataframe thead th {\n",
       "        text-align: right;\n",
       "    }\n",
       "</style>\n",
       "<table border=\"1\" class=\"dataframe\">\n",
       "  <thead>\n",
       "    <tr style=\"text-align: right;\">\n",
       "      <th></th>\n",
       "      <th>company</th>\n",
       "      <th>rank</th>\n",
       "      <th>rank_change</th>\n",
       "      <th>revenue</th>\n",
       "      <th>profit</th>\n",
       "      <th>num. of employees</th>\n",
       "      <th>sector</th>\n",
       "      <th>city</th>\n",
       "      <th>state</th>\n",
       "      <th>newcomer</th>\n",
       "      <th>ceo_founder</th>\n",
       "      <th>ceo_woman</th>\n",
       "      <th>profitable</th>\n",
       "      <th>prev_rank</th>\n",
       "      <th>CEO</th>\n",
       "      <th>Website</th>\n",
       "      <th>Ticker</th>\n",
       "      <th>Market Cap</th>\n",
       "    </tr>\n",
       "  </thead>\n",
       "  <tbody>\n",
       "    <tr>\n",
       "      <th>0</th>\n",
       "      <td>Walmart</td>\n",
       "      <td>1</td>\n",
       "      <td>0.0</td>\n",
       "      <td>572754.0</td>\n",
       "      <td>13673.0</td>\n",
       "      <td>2300000.0</td>\n",
       "      <td>Retailing</td>\n",
       "      <td>Bentonville</td>\n",
       "      <td>AR</td>\n",
       "      <td>no</td>\n",
       "      <td>no</td>\n",
       "      <td>no</td>\n",
       "      <td>yes</td>\n",
       "      <td>1.0</td>\n",
       "      <td>C. Douglas McMillon</td>\n",
       "      <td>https://www.stock.walmart.com</td>\n",
       "      <td>WMT</td>\n",
       "      <td>352037</td>\n",
       "    </tr>\n",
       "    <tr>\n",
       "      <th>1</th>\n",
       "      <td>Amazon</td>\n",
       "      <td>2</td>\n",
       "      <td>0.0</td>\n",
       "      <td>469822.0</td>\n",
       "      <td>33364.0</td>\n",
       "      <td>1608000.0</td>\n",
       "      <td>Retailing</td>\n",
       "      <td>Seattle</td>\n",
       "      <td>WA</td>\n",
       "      <td>no</td>\n",
       "      <td>no</td>\n",
       "      <td>no</td>\n",
       "      <td>yes</td>\n",
       "      <td>2.0</td>\n",
       "      <td>Andrew R. Jassy</td>\n",
       "      <td>www.amazon.com</td>\n",
       "      <td>AMZN</td>\n",
       "      <td>1202717</td>\n",
       "    </tr>\n",
       "    <tr>\n",
       "      <th>2</th>\n",
       "      <td>Apple</td>\n",
       "      <td>3</td>\n",
       "      <td>0.0</td>\n",
       "      <td>365817.0</td>\n",
       "      <td>94680.0</td>\n",
       "      <td>154000.0</td>\n",
       "      <td>Technology</td>\n",
       "      <td>Cupertino</td>\n",
       "      <td>CA</td>\n",
       "      <td>no</td>\n",
       "      <td>no</td>\n",
       "      <td>no</td>\n",
       "      <td>yes</td>\n",
       "      <td>3.0</td>\n",
       "      <td>Timothy D. Cook</td>\n",
       "      <td>www.apple.com</td>\n",
       "      <td>AAPL</td>\n",
       "      <td>2443962</td>\n",
       "    </tr>\n",
       "    <tr>\n",
       "      <th>3</th>\n",
       "      <td>CVS Health</td>\n",
       "      <td>4</td>\n",
       "      <td>0.0</td>\n",
       "      <td>292111.0</td>\n",
       "      <td>7910.0</td>\n",
       "      <td>258000.0</td>\n",
       "      <td>Health Care</td>\n",
       "      <td>Woonsocket</td>\n",
       "      <td>RI</td>\n",
       "      <td>no</td>\n",
       "      <td>no</td>\n",
       "      <td>yes</td>\n",
       "      <td>yes</td>\n",
       "      <td>4.0</td>\n",
       "      <td>Karen Lynch</td>\n",
       "      <td>https://www.cvshealth.com</td>\n",
       "      <td>CVS</td>\n",
       "      <td>125204</td>\n",
       "    </tr>\n",
       "    <tr>\n",
       "      <th>4</th>\n",
       "      <td>UnitedHealth Group</td>\n",
       "      <td>5</td>\n",
       "      <td>0.0</td>\n",
       "      <td>287597.0</td>\n",
       "      <td>17285.0</td>\n",
       "      <td>350000.0</td>\n",
       "      <td>Health Care</td>\n",
       "      <td>Minnetonka</td>\n",
       "      <td>MN</td>\n",
       "      <td>no</td>\n",
       "      <td>no</td>\n",
       "      <td>no</td>\n",
       "      <td>yes</td>\n",
       "      <td>5.0</td>\n",
       "      <td>Andrew P. Witty</td>\n",
       "      <td>www.unitedhealthgroup.com</td>\n",
       "      <td>UNH</td>\n",
       "      <td>500468</td>\n",
       "    </tr>\n",
       "  </tbody>\n",
       "</table>\n",
       "</div>"
      ],
      "text/plain": [
       "              company  rank  rank_change   revenue   profit  \\\n",
       "0             Walmart     1          0.0  572754.0  13673.0   \n",
       "1              Amazon     2          0.0  469822.0  33364.0   \n",
       "2               Apple     3          0.0  365817.0  94680.0   \n",
       "3          CVS Health     4          0.0  292111.0   7910.0   \n",
       "4  UnitedHealth Group     5          0.0  287597.0  17285.0   \n",
       "\n",
       "   num. of employees       sector         city state newcomer ceo_founder  \\\n",
       "0          2300000.0    Retailing  Bentonville    AR       no          no   \n",
       "1          1608000.0    Retailing      Seattle    WA       no          no   \n",
       "2           154000.0   Technology    Cupertino    CA       no          no   \n",
       "3           258000.0  Health Care   Woonsocket    RI       no          no   \n",
       "4           350000.0  Health Care   Minnetonka    MN       no          no   \n",
       "\n",
       "  ceo_woman profitable prev_rank                  CEO  \\\n",
       "0        no        yes       1.0  C. Douglas McMillon   \n",
       "1        no        yes       2.0      Andrew R. Jassy   \n",
       "2        no        yes       3.0      Timothy D. Cook   \n",
       "3       yes        yes       4.0          Karen Lynch   \n",
       "4        no        yes       5.0      Andrew P. Witty   \n",
       "\n",
       "                         Website Ticker Market Cap  \n",
       "0  https://www.stock.walmart.com    WMT     352037  \n",
       "1                 www.amazon.com   AMZN    1202717  \n",
       "2                  www.apple.com   AAPL    2443962  \n",
       "3      https://www.cvshealth.com    CVS     125204  \n",
       "4      www.unitedhealthgroup.com    UNH     500468  "
      ]
     },
     "execution_count": 676,
     "metadata": {},
     "output_type": "execute_result"
    }
   ],
   "source": [
    "# read our dataset into a dataframe\n",
    "df=pd.read_csv('Fortune_1000.csv')\n",
    "df.head()"
   ]
  },
  {
   "cell_type": "code",
   "execution_count": 677,
   "id": "c1203191",
   "metadata": {},
   "outputs": [
    {
     "name": "stdout",
     "output_type": "stream",
     "text": [
      "<class 'pandas.core.frame.DataFrame'>\n",
      "RangeIndex: 1000 entries, 0 to 999\n",
      "Data columns (total 18 columns):\n",
      " #   Column             Non-Null Count  Dtype  \n",
      "---  ------             --------------  -----  \n",
      " 0   company            1000 non-null   object \n",
      " 1   rank               1000 non-null   int64  \n",
      " 2   rank_change        1000 non-null   float64\n",
      " 3   revenue            1000 non-null   float64\n",
      " 4   profit             997 non-null    float64\n",
      " 5   num. of employees  999 non-null    float64\n",
      " 6   sector             1000 non-null   object \n",
      " 7   city               1000 non-null   object \n",
      " 8   state              1000 non-null   object \n",
      " 9   newcomer           1000 non-null   object \n",
      " 10  ceo_founder        1000 non-null   object \n",
      " 11  ceo_woman          1000 non-null   object \n",
      " 12  profitable         1000 non-null   object \n",
      " 13  prev_rank          1000 non-null   object \n",
      " 14  CEO                1000 non-null   object \n",
      " 15  Website            1000 non-null   object \n",
      " 16  Ticker             951 non-null    object \n",
      " 17  Market Cap         969 non-null    object \n",
      "dtypes: float64(4), int64(1), object(13)\n",
      "memory usage: 140.8+ KB\n"
     ]
    }
   ],
   "source": [
    "df.info()"
   ]
  },
  {
   "cell_type": "code",
   "execution_count": 678,
   "id": "f0768d7e",
   "metadata": {},
   "outputs": [
    {
     "data": {
      "text/plain": [
       "(1000, 18)"
      ]
     },
     "execution_count": 678,
     "metadata": {},
     "output_type": "execute_result"
    }
   ],
   "source": [
    "df.shape"
   ]
  },
  {
   "cell_type": "code",
   "execution_count": 679,
   "id": "ed9e643c",
   "metadata": {},
   "outputs": [],
   "source": [
    "df.drop(['CEO'],axis=1,inplace=True)"
   ]
  },
  {
   "cell_type": "code",
   "execution_count": 680,
   "id": "bc253d4d",
   "metadata": {},
   "outputs": [
    {
     "data": {
      "text/plain": [
       "company               0\n",
       "rank                  0\n",
       "rank_change           0\n",
       "revenue               0\n",
       "profit                3\n",
       "num. of employees     1\n",
       "sector                0\n",
       "city                  0\n",
       "state                 0\n",
       "newcomer              0\n",
       "ceo_founder           0\n",
       "ceo_woman             0\n",
       "profitable            0\n",
       "prev_rank             0\n",
       "Website               0\n",
       "Ticker               49\n",
       "Market Cap           31\n",
       "dtype: int64"
      ]
     },
     "execution_count": 680,
     "metadata": {},
     "output_type": "execute_result"
    }
   ],
   "source": [
    "df.isnull().sum()"
   ]
  },
  {
   "cell_type": "code",
   "execution_count": 681,
   "id": "46b16f9d",
   "metadata": {},
   "outputs": [
    {
     "data": {
      "text/plain": [
       "952"
      ]
     },
     "execution_count": 681,
     "metadata": {},
     "output_type": "execute_result"
    }
   ],
   "source": [
    "len(df['Ticker'].unique()) # not important"
   ]
  },
  {
   "cell_type": "code",
   "execution_count": 682,
   "id": "61605962",
   "metadata": {},
   "outputs": [],
   "source": [
    "df.drop('Ticker',axis=1,inplace=True)\n",
    "df.drop('Website',axis=1,inplace=True)"
   ]
  },
  {
   "cell_type": "code",
   "execution_count": 683,
   "id": "f93f2ab2",
   "metadata": {},
   "outputs": [
    {
     "data": {
      "text/plain": [
       "company               0\n",
       "rank                  0\n",
       "rank_change           0\n",
       "revenue               0\n",
       "profit                3\n",
       "num. of employees     1\n",
       "sector                0\n",
       "city                  0\n",
       "state                 0\n",
       "newcomer              0\n",
       "ceo_founder           0\n",
       "ceo_woman             0\n",
       "profitable            0\n",
       "prev_rank             0\n",
       "Market Cap           31\n",
       "dtype: int64"
      ]
     },
     "execution_count": 683,
     "metadata": {},
     "output_type": "execute_result"
    }
   ],
   "source": [
    "df.isnull().sum()"
   ]
  },
  {
   "cell_type": "code",
   "execution_count": 684,
   "id": "7abecb62",
   "metadata": {},
   "outputs": [],
   "source": [
    "cat_lst=['sector','ceo_founder','ceo_woman','profitable','newcomer','city','state']"
   ]
  },
  {
   "cell_type": "code",
   "execution_count": 685,
   "id": "74c6b6a5",
   "metadata": {},
   "outputs": [],
   "source": [
    "for col in cat_lst:\n",
    "    df[col]=df[col].apply(lambda x: x.lower().strip())"
   ]
  },
  {
   "cell_type": "code",
   "execution_count": 686,
   "id": "72744241",
   "metadata": {},
   "outputs": [
    {
     "data": {
      "text/html": [
       "<div>\n",
       "<style scoped>\n",
       "    .dataframe tbody tr th:only-of-type {\n",
       "        vertical-align: middle;\n",
       "    }\n",
       "\n",
       "    .dataframe tbody tr th {\n",
       "        vertical-align: top;\n",
       "    }\n",
       "\n",
       "    .dataframe thead th {\n",
       "        text-align: right;\n",
       "    }\n",
       "</style>\n",
       "<table border=\"1\" class=\"dataframe\">\n",
       "  <thead>\n",
       "    <tr style=\"text-align: right;\">\n",
       "      <th></th>\n",
       "      <th>company</th>\n",
       "      <th>rank</th>\n",
       "      <th>rank_change</th>\n",
       "      <th>revenue</th>\n",
       "      <th>profit</th>\n",
       "      <th>num. of employees</th>\n",
       "      <th>sector</th>\n",
       "      <th>city</th>\n",
       "      <th>state</th>\n",
       "      <th>newcomer</th>\n",
       "      <th>ceo_founder</th>\n",
       "      <th>ceo_woman</th>\n",
       "      <th>profitable</th>\n",
       "      <th>prev_rank</th>\n",
       "      <th>Market Cap</th>\n",
       "    </tr>\n",
       "  </thead>\n",
       "  <tbody>\n",
       "    <tr>\n",
       "      <th>0</th>\n",
       "      <td>Walmart</td>\n",
       "      <td>1</td>\n",
       "      <td>0.0</td>\n",
       "      <td>572754.0</td>\n",
       "      <td>13673.0</td>\n",
       "      <td>2300000.0</td>\n",
       "      <td>retailing</td>\n",
       "      <td>bentonville</td>\n",
       "      <td>ar</td>\n",
       "      <td>no</td>\n",
       "      <td>no</td>\n",
       "      <td>no</td>\n",
       "      <td>yes</td>\n",
       "      <td>1.0</td>\n",
       "      <td>352037</td>\n",
       "    </tr>\n",
       "    <tr>\n",
       "      <th>1</th>\n",
       "      <td>Amazon</td>\n",
       "      <td>2</td>\n",
       "      <td>0.0</td>\n",
       "      <td>469822.0</td>\n",
       "      <td>33364.0</td>\n",
       "      <td>1608000.0</td>\n",
       "      <td>retailing</td>\n",
       "      <td>seattle</td>\n",
       "      <td>wa</td>\n",
       "      <td>no</td>\n",
       "      <td>no</td>\n",
       "      <td>no</td>\n",
       "      <td>yes</td>\n",
       "      <td>2.0</td>\n",
       "      <td>1202717</td>\n",
       "    </tr>\n",
       "    <tr>\n",
       "      <th>2</th>\n",
       "      <td>Apple</td>\n",
       "      <td>3</td>\n",
       "      <td>0.0</td>\n",
       "      <td>365817.0</td>\n",
       "      <td>94680.0</td>\n",
       "      <td>154000.0</td>\n",
       "      <td>technology</td>\n",
       "      <td>cupertino</td>\n",
       "      <td>ca</td>\n",
       "      <td>no</td>\n",
       "      <td>no</td>\n",
       "      <td>no</td>\n",
       "      <td>yes</td>\n",
       "      <td>3.0</td>\n",
       "      <td>2443962</td>\n",
       "    </tr>\n",
       "    <tr>\n",
       "      <th>3</th>\n",
       "      <td>CVS Health</td>\n",
       "      <td>4</td>\n",
       "      <td>0.0</td>\n",
       "      <td>292111.0</td>\n",
       "      <td>7910.0</td>\n",
       "      <td>258000.0</td>\n",
       "      <td>health care</td>\n",
       "      <td>woonsocket</td>\n",
       "      <td>ri</td>\n",
       "      <td>no</td>\n",
       "      <td>no</td>\n",
       "      <td>yes</td>\n",
       "      <td>yes</td>\n",
       "      <td>4.0</td>\n",
       "      <td>125204</td>\n",
       "    </tr>\n",
       "    <tr>\n",
       "      <th>4</th>\n",
       "      <td>UnitedHealth Group</td>\n",
       "      <td>5</td>\n",
       "      <td>0.0</td>\n",
       "      <td>287597.0</td>\n",
       "      <td>17285.0</td>\n",
       "      <td>350000.0</td>\n",
       "      <td>health care</td>\n",
       "      <td>minnetonka</td>\n",
       "      <td>mn</td>\n",
       "      <td>no</td>\n",
       "      <td>no</td>\n",
       "      <td>no</td>\n",
       "      <td>yes</td>\n",
       "      <td>5.0</td>\n",
       "      <td>500468</td>\n",
       "    </tr>\n",
       "  </tbody>\n",
       "</table>\n",
       "</div>"
      ],
      "text/plain": [
       "              company  rank  rank_change   revenue   profit  \\\n",
       "0             Walmart     1          0.0  572754.0  13673.0   \n",
       "1              Amazon     2          0.0  469822.0  33364.0   \n",
       "2               Apple     3          0.0  365817.0  94680.0   \n",
       "3          CVS Health     4          0.0  292111.0   7910.0   \n",
       "4  UnitedHealth Group     5          0.0  287597.0  17285.0   \n",
       "\n",
       "   num. of employees       sector         city state newcomer ceo_founder  \\\n",
       "0          2300000.0    retailing  bentonville    ar       no          no   \n",
       "1          1608000.0    retailing      seattle    wa       no          no   \n",
       "2           154000.0   technology    cupertino    ca       no          no   \n",
       "3           258000.0  health care   woonsocket    ri       no          no   \n",
       "4           350000.0  health care   minnetonka    mn       no          no   \n",
       "\n",
       "  ceo_woman profitable prev_rank Market Cap  \n",
       "0        no        yes       1.0     352037  \n",
       "1        no        yes       2.0    1202717  \n",
       "2        no        yes       3.0    2443962  \n",
       "3       yes        yes       4.0     125204  \n",
       "4        no        yes       5.0     500468  "
      ]
     },
     "execution_count": 686,
     "metadata": {},
     "output_type": "execute_result"
    }
   ],
   "source": [
    "df.head()"
   ]
  },
  {
   "cell_type": "code",
   "execution_count": 687,
   "id": "fd0563be",
   "metadata": {},
   "outputs": [
    {
     "data": {
      "text/plain": [
       "sector\n",
       "financials                       166\n",
       "technology                       121\n",
       "energy                           100\n",
       "retailing                         77\n",
       "health care                       77\n",
       "business services                 52\n",
       "industrials                       50\n",
       "materials                         46\n",
       "transportation                    35\n",
       "food, beverages & tobacco         34\n",
       "engineering & construction        32\n",
       "wholesalers                       31\n",
       "chemicals                         29\n",
       "media                             28\n",
       "hotels, restaurants & leisure     28\n",
       "household products                23\n",
       "motor vehicles & parts            20\n",
       "aerospace & defense               17\n",
       "apparel                           16\n",
       "food & drug stores                 9\n",
       "telecommunications                 9\n",
       "Name: count, dtype: int64"
      ]
     },
     "execution_count": 687,
     "metadata": {},
     "output_type": "execute_result"
    }
   ],
   "source": [
    "df['sector'].value_counts()"
   ]
  },
  {
   "cell_type": "code",
   "execution_count": 688,
   "id": "7ba24673",
   "metadata": {},
   "outputs": [
    {
     "data": {
      "text/plain": [
       "array(['ar', 'wa', 'ca', 'ri', 'mn', 'tx', 'ne', 'pa', 'ct', 'oh', 'ga',\n",
       "       'il', 'in', 'mi', 'ny', 'mo', 'dc', 'nc', 'nj', 'tn', 'ky', 'ma',\n",
       "       'id', 'md', 'va', 'fl', 'or', 'wi', 'co', 'az', 'la', 'de', 'ok',\n",
       "       'ia', 'nv', 'ks', 'al', 'nd', 'sc', 'ms', 'me', 'hi', 'nh', 'vt',\n",
       "       'ut', 'pr'], dtype=object)"
      ]
     },
     "execution_count": 688,
     "metadata": {},
     "output_type": "execute_result"
    }
   ],
   "source": [
    "df['state'].unique()"
   ]
  },
  {
   "cell_type": "code",
   "execution_count": 689,
   "id": "5aecc227",
   "metadata": {},
   "outputs": [
    {
     "data": {
      "text/plain": [
       "array(['bentonville', 'seattle', 'cupertino', 'woonsocket', 'minnetonka',\n",
       "       'irving', 'omaha', 'mountain view', 'conshohocken', 'issaquah',\n",
       "       'bloomfield', 'dallas', 'redmond', 'dublin', 'san ramon',\n",
       "       'atlanta', 'deerfield', 'findlay', 'indianapolis', 'cincinnati',\n",
       "       'dearborn', 'new york', 'detroit', 'st. louis', 'menlo park',\n",
       "       'philadelphia', 'houston', 'san antonio', 'round rock',\n",
       "       'minneapolis', 'washington', 'mooresville', 'charlotte',\n",
       "       'new brunswick', 'chicago', 'memphis', 'louisville',\n",
       "       'san francisco', 'bloomington', 'purchase', 'santa clara',\n",
       "       'boston', 'armonk', 'newark', 'boise', 'burbank', 'bethesda',\n",
       "       'mclean', 'waltham', 'palo alto', 'nashville', 'north chicago',\n",
       "       'midland', 'austin', 'northbrook', 'richfield', 'stamford',\n",
       "       'kenilworth', 'san jose', 'framingham', 'lakeland',\n",
       "       'mayfield village', 'columbus', 'springdale', 'beaverton',\n",
       "       'moline', 'abbott park', 'reston', 'inver grove heights',\n",
       "       'milwaukee', 'springfield', 'falls church', 'st. paul',\n",
       "       'centennial', 'goodlettsville', 'san diego', 'fremont', 'miami',\n",
       "       'richmond', 'fort worth', 'los gatos', 'rosemont',\n",
       "       'st. petersburg', 'arlington', 'long beach', 'foster city',\n",
       "       'parsippany', 'providence', 'chesapeake', 'thousand oaks',\n",
       "       'fort lauderdale', 'bloomfield hills', 'camp hill', 'bellevue',\n",
       "       'eden prairie', 'phoenix', 'medford', 'hartford', 'benton harbor',\n",
       "       'lincolnshire', 'palm beach gardens', 'cleveland', 'pittsburgh',\n",
       "       'franklin lakes', 'monroe', 'menomonee falls', 'southfield',\n",
       "       'radnor', 'westlake', 'teaneck', 'cambridge', 'fort wayne',\n",
       "       'lake forest', 'canonsburg', 'englewood', 'melbourne', 'tysons',\n",
       "       'akron', 'new britain', 'wilmington', 'kalamazoo', 'juno beach',\n",
       "       'westborough', 'chesterfield', 'tulsa', 'brookfield', 'burlington',\n",
       "       'tarrytown', 'arden hills', 'jacksonville', 'el dorado',\n",
       "       'roseland', 'rosemead', 'auburn hills', 'madison', 'glenview',\n",
       "       'farmington', 'des moines', 'battle creek', 'los angeles',\n",
       "       'corning', 'woodland hills', 'newport beach', 'durham',\n",
       "       'evansville', 'westminster', 'riverwoods', 'yardley', 'glen allen',\n",
       "       'tempe', 'greenwich', 'brentwood', 'maumee', 'king of prussia',\n",
       "       'melville', 'des peres', 'franklin', 'tampa', 'elkhart',\n",
       "       'coraopolis', 'denver', 'oklahoma city', 'lowell', 'chattanooga',\n",
       "       'marlborough', 'new orleans', 'sunny isles beach', 'calhoun',\n",
       "       'duluth', 'reno', 'raleigh', 'lansing', 'norwalk', 'wallingford',\n",
       "       'secaucus', 'kingsport', 'allentown', 'long island city', 'plano',\n",
       "       'mechanicsville', 'las vegas', 'fairfield', 'erie',\n",
       "       'downers grove', 'newport news', 'boca raton', 'union', 'merriam',\n",
       "       'santa ana', 'hershey', 'byron center', 'clayton', 'dania beach',\n",
       "       'santa monica', 'fort washington', 'grand rapids', 'bolingbrook',\n",
       "       'victor', 'hickory', 'toledo', 'camden', 'the woodlands',\n",
       "       'san mateo', 'glendale', 'livonia', 'johnston', 'medina',\n",
       "       'rolling meadows', 'orrville', 'oshkosh', 'coral gables', 'warsaw',\n",
       "       'baltimore', 'ankeny', 'el segundo', 'jackson', 'scottsdale',\n",
       "       'winston-salem', 'oakland', 'estero', 'orlando', 'milpitas',\n",
       "       'westchester', 'herndon', 'reynoldsburg', 'katy', 'spring',\n",
       "       'redwood city', 'little rock', 'birmingham', 'pawtucket',\n",
       "       'sarasota', 'perrysburg', 'hunt valley', 'manhattan beach',\n",
       "       'beverly hills', 'sumner', 'mechanicsburg', 'buffalo', 'winona',\n",
       "       'grapevine', 'wyomissing', 'mettawa', 'north kansas city',\n",
       "       'sunnyvale', 'bismarck', 'davidson', 'green bay', 'hartsville',\n",
       "       'kansas city', 'cary', 'delaware', 'berwyn', 'corona', 'chandler',\n",
       "       'covington', 'thomasville', 'everett', 'irvine', 'worcester',\n",
       "       'morrisville', 'ewing', 'pleasanton', 'new braunfels', 'mckinney',\n",
       "       'carthage', 'windsor', 'lake success', 'black mountain',\n",
       "       'kingwood', 'santa rosa', 'lexington', 'marysville', 'troy',\n",
       "       'merrillville', 'avon lake', 'laurel', 'greenfield', 'shelton',\n",
       "       'sylmar', 'kenosha', 'portland', 'horsham', 'stevens point',\n",
       "       'westlake village', 'oak brook', 'galveston', 'san rafael',\n",
       "       'ann arbor', 'marietta', 'sunbury', 'greenwood village',\n",
       "       'richardson', 'florham park', 'north canton', 'fort mill',\n",
       "       'carmel', 'rochester', 'greensboro', 'somerset', 'incline village',\n",
       "       'fort smith', 'wichita', 'foothill ranch', 'new brighton',\n",
       "       'honolulu', 'hudson', 'denton', 'beloit', 'norwell', 'bellingham',\n",
       "       'collierville', 'corte madera', 'newtown', 'waukesha',\n",
       "       'new albany', 'north reading', 'west des moines', 'eagle',\n",
       "       'centreville', 'plymouth', 'hanover', 'watsonville', 'portsmouth',\n",
       "       'daytona beach', 'roswell', 'bannockburn', 'branchville', 'neenah',\n",
       "       'greenville', 'montpelier', 'coppell', 'walnut creek', 'tucker',\n",
       "       'elgin', 'ames', 'malvern', 'miramar', 'crystal lake', 'westbrook',\n",
       "       'pasadena', 'carlsbad', 'saxonburg', 'emeryville', 'jersey city',\n",
       "       'middleton', 'leawood', 'reading', 'pontiac', 'salt lake city',\n",
       "       'sussex', 'andover', 'harvey', 'calabasas hills', 'hercules',\n",
       "       'brea', 'merrimack', 'batesville', 'east aurora', 'exton',\n",
       "       'lebanon', 'wayne', 'milford', 'matawan', 'lincoln', 'midvale',\n",
       "       'van buren township', 'white plains', 'hato rey', 'st. george',\n",
       "       'provo', 'draper', 'san juan capistrano', 'owatonna', 'henderson',\n",
       "       'blue bell', 'goleta', 'new haven', 'plymouth meeting', 'zeeland',\n",
       "       'billerica', 'rockford', 'west palm beach', 'northville',\n",
       "       'brooklyn', 'broomfield', 'highland hills', 'johns creek',\n",
       "       'bristol', 'fort collins', 'anoka', 'lafayette', 'baton rouge',\n",
       "       'muscatine', 'tacoma', 'elmsford', 'wall', 'fairhaven',\n",
       "       'lynchburg', 'jericho'], dtype=object)"
      ]
     },
     "execution_count": 689,
     "metadata": {},
     "output_type": "execute_result"
    }
   ],
   "source": [
    "df['city'].unique()"
   ]
  },
  {
   "cell_type": "code",
   "execution_count": 690,
   "id": "bc3e1847",
   "metadata": {},
   "outputs": [],
   "source": [
    "col_to_cat=['sector','ceo_founder','ceo_woman','profitable','newcomer','city','state']\n",
    "\n",
    "for col in col_to_cat:\n",
    "    df[col]=df[col].astype('category')"
   ]
  },
  {
   "cell_type": "code",
   "execution_count": 691,
   "id": "ab881b78",
   "metadata": {},
   "outputs": [
    {
     "name": "stdout",
     "output_type": "stream",
     "text": [
      "<class 'pandas.core.frame.DataFrame'>\n",
      "RangeIndex: 1000 entries, 0 to 999\n",
      "Data columns (total 15 columns):\n",
      " #   Column             Non-Null Count  Dtype   \n",
      "---  ------             --------------  -----   \n",
      " 0   company            1000 non-null   object  \n",
      " 1   rank               1000 non-null   int64   \n",
      " 2   rank_change        1000 non-null   float64 \n",
      " 3   revenue            1000 non-null   float64 \n",
      " 4   profit             997 non-null    float64 \n",
      " 5   num. of employees  999 non-null    float64 \n",
      " 6   sector             1000 non-null   category\n",
      " 7   city               1000 non-null   category\n",
      " 8   state              1000 non-null   category\n",
      " 9   newcomer           1000 non-null   category\n",
      " 10  ceo_founder        1000 non-null   category\n",
      " 11  ceo_woman          1000 non-null   category\n",
      " 12  profitable         1000 non-null   category\n",
      " 13  prev_rank          1000 non-null   object  \n",
      " 14  Market Cap         969 non-null    object  \n",
      "dtypes: category(7), float64(4), int64(1), object(3)\n",
      "memory usage: 92.3+ KB\n"
     ]
    }
   ],
   "source": [
    "df.info()"
   ]
  },
  {
   "cell_type": "code",
   "execution_count": 692,
   "id": "3b13e5e1",
   "metadata": {},
   "outputs": [
    {
     "data": {
      "text/plain": [
       "' import to see'"
      ]
     },
     "execution_count": 692,
     "metadata": {},
     "output_type": "execute_result"
    }
   ],
   "source": [
    "''' import to see'''\n",
    "\n",
    "# pattern = f\"[{re.escape(punctuation)}]\"\n",
    "# pattern"
   ]
  },
  {
   "cell_type": "markdown",
   "id": "8833df82",
   "metadata": {},
   "source": [
    "## count special characters that may appear in cat_numeric_column"
   ]
  },
  {
   "cell_type": "code",
   "execution_count": 693,
   "id": "f18a6ec4",
   "metadata": {},
   "outputs": [],
   "source": [
    "def count_char(df,col,char):\n",
    "    return df[col].str.count(char).value_counts()"
   ]
  },
  {
   "cell_type": "code",
   "execution_count": 694,
   "id": "b18ee97c",
   "metadata": {},
   "outputs": [
    {
     "name": "stdout",
     "output_type": "stream",
     "text": [
      "<class 'pandas.core.frame.DataFrame'>\n",
      "RangeIndex: 1000 entries, 0 to 999\n",
      "Data columns (total 15 columns):\n",
      " #   Column             Non-Null Count  Dtype   \n",
      "---  ------             --------------  -----   \n",
      " 0   company            1000 non-null   object  \n",
      " 1   rank               1000 non-null   int64   \n",
      " 2   rank_change        1000 non-null   float64 \n",
      " 3   revenue            1000 non-null   float64 \n",
      " 4   profit             997 non-null    float64 \n",
      " 5   num. of employees  999 non-null    float64 \n",
      " 6   sector             1000 non-null   category\n",
      " 7   city               1000 non-null   category\n",
      " 8   state              1000 non-null   category\n",
      " 9   newcomer           1000 non-null   category\n",
      " 10  ceo_founder        1000 non-null   category\n",
      " 11  ceo_woman          1000 non-null   category\n",
      " 12  profitable         1000 non-null   category\n",
      " 13  prev_rank          1000 non-null   object  \n",
      " 14  Market Cap         969 non-null    object  \n",
      "dtypes: category(7), float64(4), int64(1), object(3)\n",
      "memory usage: 92.3+ KB\n"
     ]
    }
   ],
   "source": [
    "df.info()"
   ]
  },
  {
   "cell_type": "code",
   "execution_count": 695,
   "id": "29cd969f",
   "metadata": {},
   "outputs": [],
   "source": [
    "miss_captured_colms=['Market Cap','prev_rank']"
   ]
  },
  {
   "cell_type": "code",
   "execution_count": 696,
   "id": "d1604e59",
   "metadata": {},
   "outputs": [
    {
     "name": "stdout",
     "output_type": "stream",
     "text": [
      "for char [-]: \n",
      "Market Cap\n",
      "0.0    961\n",
      "1.0      8\n",
      "Name: count, dtype: int64\n",
      "---------------\n",
      "for char [,]: \n",
      "Market Cap\n",
      "0.0    969\n",
      "Name: count, dtype: int64\n",
      "---------------\n",
      "for char [_]: \n",
      "Market Cap\n",
      "0.0    969\n",
      "Name: count, dtype: int64\n",
      "---------------\n",
      "for char [;]: \n",
      "Market Cap\n",
      "0.0    969\n",
      "Name: count, dtype: int64\n",
      "---------------\n",
      "for char [:]: \n",
      "Market Cap\n",
      "0.0    969\n",
      "Name: count, dtype: int64\n",
      "---------------\n"
     ]
    }
   ],
   "source": [
    "\n",
    "for char in ['-',',','_',';',':']:\n",
    "    print(f'for char [{char}]: ')\n",
    "    print(count_char(df,'Market Cap',char))\n",
    "    print('---------------')"
   ]
  },
  {
   "cell_type": "code",
   "execution_count": 697,
   "id": "ceb90bdf",
   "metadata": {},
   "outputs": [
    {
     "data": {
      "text/plain": [
       "Market Cap\n",
       "       961\n",
       "nan     31\n",
       "-        8\n",
       "Name: count, dtype: int64"
      ]
     },
     "execution_count": 697,
     "metadata": {},
     "output_type": "execute_result"
    }
   ],
   "source": [
    "df['Market Cap'].apply(lambda x: ''.join(re.findall(r'[^\\d.]',str(x).strip()))).value_counts()"
   ]
  },
  {
   "cell_type": "code",
   "execution_count": 698,
   "id": "74fc7147",
   "metadata": {},
   "outputs": [],
   "source": [
    "market_non_df=df[df['Market Cap'].isnull()].copy()\n"
   ]
  },
  {
   "cell_type": "code",
   "execution_count": 699,
   "id": "b6a42df0",
   "metadata": {},
   "outputs": [
    {
     "data": {
      "text/html": [
       "<div>\n",
       "<style scoped>\n",
       "    .dataframe tbody tr th:only-of-type {\n",
       "        vertical-align: middle;\n",
       "    }\n",
       "\n",
       "    .dataframe tbody tr th {\n",
       "        vertical-align: top;\n",
       "    }\n",
       "\n",
       "    .dataframe thead th {\n",
       "        text-align: right;\n",
       "    }\n",
       "</style>\n",
       "<table border=\"1\" class=\"dataframe\">\n",
       "  <thead>\n",
       "    <tr style=\"text-align: right;\">\n",
       "      <th></th>\n",
       "      <th>company</th>\n",
       "      <th>rank</th>\n",
       "      <th>rank_change</th>\n",
       "      <th>revenue</th>\n",
       "      <th>profit</th>\n",
       "      <th>num. of employees</th>\n",
       "      <th>sector</th>\n",
       "      <th>city</th>\n",
       "      <th>state</th>\n",
       "      <th>newcomer</th>\n",
       "      <th>ceo_founder</th>\n",
       "      <th>ceo_woman</th>\n",
       "      <th>profitable</th>\n",
       "      <th>prev_rank</th>\n",
       "      <th>Market Cap</th>\n",
       "    </tr>\n",
       "  </thead>\n",
       "  <tbody>\n",
       "    <tr>\n",
       "      <th>41</th>\n",
       "      <td>State Farm Insurance</td>\n",
       "      <td>42</td>\n",
       "      <td>-3.0</td>\n",
       "      <td>82224.7</td>\n",
       "      <td>1280.9</td>\n",
       "      <td>53586.0</td>\n",
       "      <td>financials</td>\n",
       "      <td>bloomington</td>\n",
       "      <td>il</td>\n",
       "      <td>no</td>\n",
       "      <td>no</td>\n",
       "      <td>no</td>\n",
       "      <td>yes</td>\n",
       "      <td>39.0</td>\n",
       "      <td>NaN</td>\n",
       "    </tr>\n",
       "    <tr>\n",
       "      <th>77</th>\n",
       "      <td>Liberty Mutual Insurance Group</td>\n",
       "      <td>78</td>\n",
       "      <td>-7.0</td>\n",
       "      <td>48200.0</td>\n",
       "      <td>3068.0</td>\n",
       "      <td>45000.0</td>\n",
       "      <td>financials</td>\n",
       "      <td>boston</td>\n",
       "      <td>ma</td>\n",
       "      <td>no</td>\n",
       "      <td>no</td>\n",
       "      <td>no</td>\n",
       "      <td>yes</td>\n",
       "      <td>71.0</td>\n",
       "      <td>NaN</td>\n",
       "    </tr>\n",
       "    <tr>\n",
       "      <th>79</th>\n",
       "      <td>Nationwide</td>\n",
       "      <td>80</td>\n",
       "      <td>-4.0</td>\n",
       "      <td>47376.0</td>\n",
       "      <td>1617.2</td>\n",
       "      <td>24134.0</td>\n",
       "      <td>financials</td>\n",
       "      <td>columbus</td>\n",
       "      <td>oh</td>\n",
       "      <td>no</td>\n",
       "      <td>no</td>\n",
       "      <td>no</td>\n",
       "      <td>yes</td>\n",
       "      <td>76.0</td>\n",
       "      <td>NaN</td>\n",
       "    </tr>\n",
       "    <tr>\n",
       "      <th>94</th>\n",
       "      <td>CHS</td>\n",
       "      <td>95</td>\n",
       "      <td>8.0</td>\n",
       "      <td>38448.0</td>\n",
       "      <td>554.0</td>\n",
       "      <td>9941.0</td>\n",
       "      <td>food, beverages &amp; tobacco</td>\n",
       "      <td>inver grove heights</td>\n",
       "      <td>mn</td>\n",
       "      <td>no</td>\n",
       "      <td>no</td>\n",
       "      <td>no</td>\n",
       "      <td>yes</td>\n",
       "      <td>103.0</td>\n",
       "      <td>NaN</td>\n",
       "    </tr>\n",
       "    <tr>\n",
       "      <th>231</th>\n",
       "      <td>Land O'Lakes</td>\n",
       "      <td>232</td>\n",
       "      <td>-13.0</td>\n",
       "      <td>15916.4</td>\n",
       "      <td>287.4</td>\n",
       "      <td>9000.0</td>\n",
       "      <td>food, beverages &amp; tobacco</td>\n",
       "      <td>arden hills</td>\n",
       "      <td>mn</td>\n",
       "      <td>no</td>\n",
       "      <td>no</td>\n",
       "      <td>yes</td>\n",
       "      <td>yes</td>\n",
       "      <td>219.0</td>\n",
       "      <td>NaN</td>\n",
       "    </tr>\n",
       "  </tbody>\n",
       "</table>\n",
       "</div>"
      ],
      "text/plain": [
       "                            company  rank  rank_change  revenue  profit  \\\n",
       "41             State Farm Insurance    42         -3.0  82224.7  1280.9   \n",
       "77   Liberty Mutual Insurance Group    78         -7.0  48200.0  3068.0   \n",
       "79                       Nationwide    80         -4.0  47376.0  1617.2   \n",
       "94                              CHS    95          8.0  38448.0   554.0   \n",
       "231                    Land O'Lakes   232        -13.0  15916.4   287.4   \n",
       "\n",
       "     num. of employees                     sector                 city state  \\\n",
       "41             53586.0                 financials          bloomington    il   \n",
       "77             45000.0                 financials               boston    ma   \n",
       "79             24134.0                 financials             columbus    oh   \n",
       "94              9941.0  food, beverages & tobacco  inver grove heights    mn   \n",
       "231             9000.0  food, beverages & tobacco          arden hills    mn   \n",
       "\n",
       "    newcomer ceo_founder ceo_woman profitable prev_rank Market Cap  \n",
       "41        no          no        no        yes      39.0        NaN  \n",
       "77        no          no        no        yes      71.0        NaN  \n",
       "79        no          no        no        yes      76.0        NaN  \n",
       "94        no          no        no        yes     103.0        NaN  \n",
       "231       no          no       yes        yes     219.0        NaN  "
      ]
     },
     "execution_count": 699,
     "metadata": {},
     "output_type": "execute_result"
    }
   ],
   "source": [
    "market_non_df.head()"
   ]
  },
  {
   "cell_type": "code",
   "execution_count": 700,
   "id": "47bcd96e",
   "metadata": {},
   "outputs": [
    {
     "data": {
      "text/html": [
       "<div>\n",
       "<style scoped>\n",
       "    .dataframe tbody tr th:only-of-type {\n",
       "        vertical-align: middle;\n",
       "    }\n",
       "\n",
       "    .dataframe tbody tr th {\n",
       "        vertical-align: top;\n",
       "    }\n",
       "\n",
       "    .dataframe thead th {\n",
       "        text-align: right;\n",
       "    }\n",
       "</style>\n",
       "<table border=\"1\" class=\"dataframe\">\n",
       "  <thead>\n",
       "    <tr style=\"text-align: right;\">\n",
       "      <th></th>\n",
       "      <th>count</th>\n",
       "      <th>mean</th>\n",
       "      <th>std</th>\n",
       "      <th>min</th>\n",
       "      <th>25%</th>\n",
       "      <th>50%</th>\n",
       "      <th>75%</th>\n",
       "      <th>max</th>\n",
       "    </tr>\n",
       "  </thead>\n",
       "  <tbody>\n",
       "    <tr>\n",
       "      <th>rank</th>\n",
       "      <td>31.0</td>\n",
       "      <td>496.548387</td>\n",
       "      <td>286.305296</td>\n",
       "      <td>42.0</td>\n",
       "      <td>265.00</td>\n",
       "      <td>418.0</td>\n",
       "      <td>731.0</td>\n",
       "      <td>948.0</td>\n",
       "    </tr>\n",
       "    <tr>\n",
       "      <th>rank_change</th>\n",
       "      <td>31.0</td>\n",
       "      <td>-5.741935</td>\n",
       "      <td>18.964823</td>\n",
       "      <td>-70.0</td>\n",
       "      <td>-7.50</td>\n",
       "      <td>0.0</td>\n",
       "      <td>0.0</td>\n",
       "      <td>37.0</td>\n",
       "    </tr>\n",
       "    <tr>\n",
       "      <th>revenue</th>\n",
       "      <td>31.0</td>\n",
       "      <td>13483.935484</td>\n",
       "      <td>17545.506700</td>\n",
       "      <td>2346.5</td>\n",
       "      <td>3660.25</td>\n",
       "      <td>8274.6</td>\n",
       "      <td>13995.5</td>\n",
       "      <td>82224.7</td>\n",
       "    </tr>\n",
       "    <tr>\n",
       "      <th>profit</th>\n",
       "      <td>31.0</td>\n",
       "      <td>707.383871</td>\n",
       "      <td>835.542603</td>\n",
       "      <td>-366.8</td>\n",
       "      <td>197.25</td>\n",
       "      <td>419.2</td>\n",
       "      <td>927.5</td>\n",
       "      <td>3068.0</td>\n",
       "    </tr>\n",
       "    <tr>\n",
       "      <th>num. of employees</th>\n",
       "      <td>30.0</td>\n",
       "      <td>9496.700000</td>\n",
       "      <td>12572.402443</td>\n",
       "      <td>749.0</td>\n",
       "      <td>3158.00</td>\n",
       "      <td>4830.0</td>\n",
       "      <td>9112.5</td>\n",
       "      <td>53586.0</td>\n",
       "    </tr>\n",
       "  </tbody>\n",
       "</table>\n",
       "</div>"
      ],
      "text/plain": [
       "                   count          mean           std     min      25%     50%  \\\n",
       "rank                31.0    496.548387    286.305296    42.0   265.00   418.0   \n",
       "rank_change         31.0     -5.741935     18.964823   -70.0    -7.50     0.0   \n",
       "revenue             31.0  13483.935484  17545.506700  2346.5  3660.25  8274.6   \n",
       "profit              31.0    707.383871    835.542603  -366.8   197.25   419.2   \n",
       "num. of employees   30.0   9496.700000  12572.402443   749.0  3158.00  4830.0   \n",
       "\n",
       "                       75%      max  \n",
       "rank                 731.0    948.0  \n",
       "rank_change            0.0     37.0  \n",
       "revenue            13995.5  82224.7  \n",
       "profit               927.5   3068.0  \n",
       "num. of employees   9112.5  53586.0  "
      ]
     },
     "execution_count": 700,
     "metadata": {},
     "output_type": "execute_result"
    }
   ],
   "source": [
    "market_non_df.describe().T"
   ]
  },
  {
   "cell_type": "code",
   "execution_count": 701,
   "id": "112404f8",
   "metadata": {},
   "outputs": [
    {
     "data": {
      "text/plain": [
       "sector\n",
       "financials                       25\n",
       "food, beverages & tobacco         2\n",
       "energy                            1\n",
       "engineering & construction        1\n",
       "retailing                         1\n",
       "media                             1\n",
       "aerospace & defense               0\n",
       "materials                         0\n",
       "transportation                    0\n",
       "telecommunications                0\n",
       "technology                        0\n",
       "motor vehicles & parts            0\n",
       "hotels, restaurants & leisure     0\n",
       "industrials                       0\n",
       "household products                0\n",
       "apparel                           0\n",
       "health care                       0\n",
       "food & drug stores                0\n",
       "chemicals                         0\n",
       "business services                 0\n",
       "wholesalers                       0\n",
       "Name: count, dtype: int64"
      ]
     },
     "execution_count": 701,
     "metadata": {},
     "output_type": "execute_result"
    }
   ],
   "source": [
    "counts=market_non_df['sector'].value_counts()\n",
    "counts"
   ]
  },
  {
   "cell_type": "code",
   "execution_count": 702,
   "id": "049852d7",
   "metadata": {},
   "outputs": [
    {
     "data": {
      "image/png": "[encoded data removed]",
      "text/plain": [
       "<Figure size 1200x1200 with 1 Axes>"
      ]
     },
     "metadata": {},
     "output_type": "display_data"
    }
   ],
   "source": [
    "plt.figure(figsize=(12,12))\n",
    "plt.barh(y=counts.index,width=counts.values)\n",
    "plt.title('Sectors that has unknown market cap')\n",
    "plt.show()"
   ]
  },
  {
   "cell_type": "code",
   "execution_count": 703,
   "id": "26cee772",
   "metadata": {},
   "outputs": [],
   "source": [
    "cat_sectors_needfill=list(counts.index)\n",
    "cat_sectors_needfill=cat_sectors_needfill[0:6]"
   ]
  },
  {
   "cell_type": "code",
   "execution_count": 704,
   "id": "b4ac4272",
   "metadata": {},
   "outputs": [
    {
     "data": {
      "text/plain": [
       "['financials',\n",
       " 'food, beverages & tobacco',\n",
       " 'energy',\n",
       " 'engineering & construction',\n",
       " 'retailing',\n",
       " 'media']"
      ]
     },
     "execution_count": 704,
     "metadata": {},
     "output_type": "execute_result"
    }
   ],
   "source": [
    "cat_sectors_needfill"
   ]
  },
  {
   "cell_type": "code",
   "execution_count": 705,
   "id": "184d8135",
   "metadata": {},
   "outputs": [
    {
     "data": {
      "text/plain": [
       "state\n",
       "mn    5\n",
       "oh    4\n",
       "wi    3\n",
       "ny    3\n",
       "ri    2\n",
       "pa    2\n",
       "Name: count, dtype: int64"
      ]
     },
     "execution_count": 705,
     "metadata": {},
     "output_type": "execute_result"
    }
   ],
   "source": [
    "market_non_df['state'].value_counts().head(6)"
   ]
  },
  {
   "cell_type": "code",
   "execution_count": 706,
   "id": "29e09f13",
   "metadata": {},
   "outputs": [
    {
     "data": {
      "text/plain": [
       "profitable\n",
       "yes    28\n",
       "no      3\n",
       "Name: count, dtype: int64"
      ]
     },
     "execution_count": 706,
     "metadata": {},
     "output_type": "execute_result"
    }
   ],
   "source": [
    "market_non_df['profitable'].value_counts()"
   ]
  },
  {
   "cell_type": "code",
   "execution_count": 707,
   "id": "e9987496",
   "metadata": {},
   "outputs": [
    {
     "data": {
      "text/plain": [
       "ceo_founder\n",
       "no     31\n",
       "yes     0\n",
       "Name: count, dtype: int64"
      ]
     },
     "execution_count": 707,
     "metadata": {},
     "output_type": "execute_result"
    }
   ],
   "source": [
    "market_non_df['ceo_founder'].value_counts()"
   ]
  },
  {
   "cell_type": "code",
   "execution_count": 708,
   "id": "1ce8ae39",
   "metadata": {},
   "outputs": [
    {
     "data": {
      "text/plain": [
       "prev_rank\n",
       "    1000\n",
       "Name: count, dtype: int64"
      ]
     },
     "execution_count": 708,
     "metadata": {},
     "output_type": "execute_result"
    }
   ],
   "source": [
    "df['prev_rank'].apply(lambda x: ''.join(re.findall(r'[^\\d.]',str(x).strip()))).value_counts()"
   ]
  },
  {
   "cell_type": "code",
   "execution_count": 709,
   "id": "0b2cbd8c",
   "metadata": {},
   "outputs": [],
   "source": [
    "def standby_col_to_num(x):\n",
    "    x=str(x)\n",
    "    x=re.sub(r'[^\\d.]','',x)\n",
    "    x=x.strip()\n",
    "    if x!='':\n",
    "        return x\n",
    "    else:\n",
    "        return np.nan"
   ]
  },
  {
   "cell_type": "code",
   "execution_count": 710,
   "id": "37a0e0c0",
   "metadata": {},
   "outputs": [],
   "source": [
    "backup_df=df.copy()"
   ]
  },
  {
   "cell_type": "code",
   "execution_count": 711,
   "id": "44d557d8",
   "metadata": {},
   "outputs": [],
   "source": [
    "df['Market Cap']=df['Market Cap'].apply(standby_col_to_num)"
   ]
  },
  {
   "cell_type": "code",
   "execution_count": 712,
   "id": "9335a22d",
   "metadata": {},
   "outputs": [
    {
     "data": {
      "text/plain": [
       "39"
      ]
     },
     "execution_count": 712,
     "metadata": {},
     "output_type": "execute_result"
    }
   ],
   "source": [
    "df['Market Cap'].isnull().sum() # 31 + 8"
   ]
  },
  {
   "cell_type": "code",
   "execution_count": 713,
   "id": "2f5f91aa",
   "metadata": {},
   "outputs": [],
   "source": [
    "df['Market Cap']=df['Market Cap'].astype(float)"
   ]
  },
  {
   "cell_type": "code",
   "execution_count": 714,
   "id": "4154ba1f",
   "metadata": {},
   "outputs": [
    {
     "data": {
      "text/plain": [
       "0     352037.0\n",
       "1    1202717.0\n",
       "2    2443962.0\n",
       "3     125204.0\n",
       "4     500468.0\n",
       "Name: Market Cap, dtype: float64"
      ]
     },
     "execution_count": 714,
     "metadata": {},
     "output_type": "execute_result"
    }
   ],
   "source": [
    "df['Market Cap'].head()"
   ]
  },
  {
   "cell_type": "code",
   "execution_count": 715,
   "id": "e0c8da08",
   "metadata": {},
   "outputs": [
    {
     "name": "stdout",
     "output_type": "stream",
     "text": [
      "<class 'pandas.core.frame.DataFrame'>\n",
      "RangeIndex: 1000 entries, 0 to 999\n",
      "Data columns (total 15 columns):\n",
      " #   Column             Non-Null Count  Dtype   \n",
      "---  ------             --------------  -----   \n",
      " 0   company            1000 non-null   object  \n",
      " 1   rank               1000 non-null   int64   \n",
      " 2   rank_change        1000 non-null   float64 \n",
      " 3   revenue            1000 non-null   float64 \n",
      " 4   profit             997 non-null    float64 \n",
      " 5   num. of employees  999 non-null    float64 \n",
      " 6   sector             1000 non-null   category\n",
      " 7   city               1000 non-null   category\n",
      " 8   state              1000 non-null   category\n",
      " 9   newcomer           1000 non-null   category\n",
      " 10  ceo_founder        1000 non-null   category\n",
      " 11  ceo_woman          1000 non-null   category\n",
      " 12  profitable         1000 non-null   category\n",
      " 13  prev_rank          1000 non-null   object  \n",
      " 14  Market Cap         961 non-null    float64 \n",
      "dtypes: category(7), float64(5), int64(1), object(2)\n",
      "memory usage: 92.3+ KB\n"
     ]
    }
   ],
   "source": [
    "df.info()"
   ]
  },
  {
   "cell_type": "code",
   "execution_count": 716,
   "id": "c1acd3e6",
   "metadata": {},
   "outputs": [],
   "source": [
    "tst=df['prev_rank'].copy()"
   ]
  },
  {
   "cell_type": "code",
   "execution_count": 717,
   "id": "407b3830",
   "metadata": {},
   "outputs": [],
   "source": [
    "tst=tst.apply(standby_col_to_num)"
   ]
  },
  {
   "cell_type": "code",
   "execution_count": 718,
   "id": "b897383a",
   "metadata": {},
   "outputs": [
    {
     "data": {
      "text/plain": [
       "531"
      ]
     },
     "execution_count": 718,
     "metadata": {},
     "output_type": "execute_result"
    }
   ],
   "source": [
    "tst.isnull().sum()"
   ]
  },
  {
   "cell_type": "code",
   "execution_count": 719,
   "id": "177a9e33",
   "metadata": {},
   "outputs": [],
   "source": [
    "tst=tst.astype(float)"
   ]
  },
  {
   "cell_type": "code",
   "execution_count": 720,
   "id": "0ea9893a",
   "metadata": {},
   "outputs": [
    {
     "data": {
      "text/plain": [
       "0    1.0\n",
       "1    2.0\n",
       "2    3.0\n",
       "3    4.0\n",
       "4    5.0\n",
       "Name: prev_rank, dtype: float64"
      ]
     },
     "execution_count": 720,
     "metadata": {},
     "output_type": "execute_result"
    }
   ],
   "source": [
    "tst.head()"
   ]
  },
  {
   "cell_type": "code",
   "execution_count": 721,
   "id": "8c0a571d",
   "metadata": {},
   "outputs": [
    {
     "data": {
      "text/plain": [
       "531"
      ]
     },
     "execution_count": 721,
     "metadata": {},
     "output_type": "execute_result"
    }
   ],
   "source": [
    "df[df['prev_rank']==' '].shape[0]"
   ]
  },
  {
   "cell_type": "code",
   "execution_count": 722,
   "id": "87d80f71",
   "metadata": {},
   "outputs": [],
   "source": [
    "df['prev_rank']=tst.copy()"
   ]
  },
  {
   "cell_type": "code",
   "execution_count": 723,
   "id": "c444a517",
   "metadata": {},
   "outputs": [
    {
     "name": "stdout",
     "output_type": "stream",
     "text": [
      "<class 'pandas.core.frame.DataFrame'>\n",
      "RangeIndex: 1000 entries, 0 to 999\n",
      "Data columns (total 15 columns):\n",
      " #   Column             Non-Null Count  Dtype   \n",
      "---  ------             --------------  -----   \n",
      " 0   company            1000 non-null   object  \n",
      " 1   rank               1000 non-null   int64   \n",
      " 2   rank_change        1000 non-null   float64 \n",
      " 3   revenue            1000 non-null   float64 \n",
      " 4   profit             997 non-null    float64 \n",
      " 5   num. of employees  999 non-null    float64 \n",
      " 6   sector             1000 non-null   category\n",
      " 7   city               1000 non-null   category\n",
      " 8   state              1000 non-null   category\n",
      " 9   newcomer           1000 non-null   category\n",
      " 10  ceo_founder        1000 non-null   category\n",
      " 11  ceo_woman          1000 non-null   category\n",
      " 12  profitable         1000 non-null   category\n",
      " 13  prev_rank          469 non-null    float64 \n",
      " 14  Market Cap         961 non-null    float64 \n",
      "dtypes: category(7), float64(6), int64(1), object(1)\n",
      "memory usage: 92.3+ KB\n"
     ]
    }
   ],
   "source": [
    "df.info()"
   ]
  },
  {
   "cell_type": "code",
   "execution_count": 724,
   "id": "48291b79",
   "metadata": {},
   "outputs": [
    {
     "data": {
      "text/plain": [
       "company                0\n",
       "rank                   0\n",
       "rank_change            0\n",
       "revenue                0\n",
       "profit                 3\n",
       "num. of employees      1\n",
       "sector                 0\n",
       "city                   0\n",
       "state                  0\n",
       "newcomer               0\n",
       "ceo_founder            0\n",
       "ceo_woman              0\n",
       "profitable             0\n",
       "prev_rank            531\n",
       "Market Cap            39\n",
       "dtype: int64"
      ]
     },
     "execution_count": 724,
     "metadata": {},
     "output_type": "execute_result"
    }
   ],
   "source": [
    "df.isnull().sum()"
   ]
  },
  {
   "cell_type": "code",
   "execution_count": 725,
   "id": "0f8564a5",
   "metadata": {},
   "outputs": [],
   "source": [
    "df.drop('prev_rank',axis=1,inplace=True)"
   ]
  },
  {
   "cell_type": "code",
   "execution_count": 726,
   "id": "14a56bd4",
   "metadata": {},
   "outputs": [
    {
     "data": {
      "text/plain": [
       "0"
      ]
     },
     "execution_count": 726,
     "metadata": {},
     "output_type": "execute_result"
    }
   ],
   "source": [
    "df['company']=df['company'].apply(lambda x: x.lower().strip())\n",
    "df.duplicated(subset='company').sum()"
   ]
  },
  {
   "cell_type": "code",
   "execution_count": 727,
   "id": "5c66afff",
   "metadata": {},
   "outputs": [
    {
     "data": {
      "text/plain": [
       "0"
      ]
     },
     "execution_count": 727,
     "metadata": {},
     "output_type": "execute_result"
    }
   ],
   "source": [
    "df.duplicated().sum()"
   ]
  },
  {
   "cell_type": "code",
   "execution_count": 728,
   "id": "a186f9b1",
   "metadata": {},
   "outputs": [],
   "source": [
    "df.drop('company',axis=1,inplace=True)"
   ]
  },
  {
   "cell_type": "code",
   "execution_count": 729,
   "id": "93307a32",
   "metadata": {},
   "outputs": [
    {
     "name": "stderr",
     "output_type": "stream",
     "text": [
      "C:\\Users\\kiril\\AppData\\Local\\Temp\\ipykernel_21216\\3100673381.py:1: FutureWarning: The default of observed=False is deprecated and will be changed to True in a future version of pandas. Pass observed=False to retain current behavior or observed=True to adopt the future default and silence this warning.\n",
      "  grouped_sectors_for_marketCap=df.groupby('sector')['Market Cap'].median()\n"
     ]
    },
    {
     "data": {
      "text/plain": [
       "sector\n",
       "aerospace & defense              16090.60\n",
       "apparel                           5790.20\n",
       "business services                10118.40\n",
       "chemicals                        14450.10\n",
       "energy                           16182.80\n",
       "engineering & construction        3301.60\n",
       "financials                       19135.70\n",
       "food & drug stores                3347.40\n",
       "food, beverages & tobacco        24989.70\n",
       "health care                      24625.80\n",
       "hotels, restaurants & leisure     9002.10\n",
       "household products                8081.80\n",
       "industrials                       9980.85\n",
       "materials                         5601.70\n",
       "media                            12733.40\n",
       "motor vehicles & parts            3433.35\n",
       "retailing                         6595.20\n",
       "technology                       21547.50\n",
       "telecommunications               16743.10\n",
       "transportation                    7314.30\n",
       "wholesalers                       5109.05\n",
       "Name: Market Cap, dtype: float64"
      ]
     },
     "execution_count": 729,
     "metadata": {},
     "output_type": "execute_result"
    }
   ],
   "source": [
    "grouped_sectors_for_marketCap=df.groupby('sector')['Market Cap'].median()\n",
    "grouped_sectors_for_marketCap"
   ]
  },
  {
   "cell_type": "code",
   "execution_count": 730,
   "id": "c647255d",
   "metadata": {},
   "outputs": [],
   "source": [
    "df_nan_market=df[df['Market Cap'].isnull()]\n",
    "df_exist_market=df[~(df['Market Cap'].isnull())]"
   ]
  },
  {
   "cell_type": "code",
   "execution_count": 731,
   "id": "88f9bb6f",
   "metadata": {},
   "outputs": [
    {
     "data": {
      "text/plain": [
       "rank                          42\n",
       "rank_change                 -3.0\n",
       "revenue                  82224.7\n",
       "profit                    1280.9\n",
       "num. of employees        53586.0\n",
       "sector                financials\n",
       "city                 bloomington\n",
       "state                         il\n",
       "newcomer                      no\n",
       "ceo_founder                   no\n",
       "ceo_woman                     no\n",
       "profitable                   yes\n",
       "Market Cap                   NaN\n",
       "Name: 41, dtype: object"
      ]
     },
     "execution_count": 731,
     "metadata": {},
     "output_type": "execute_result"
    }
   ],
   "source": [
    "df_nan_market.iloc[0]\n"
   ]
  },
  {
   "cell_type": "code",
   "execution_count": 732,
   "id": "d9b8c030",
   "metadata": {},
   "outputs": [],
   "source": [
    "for row in range(df_nan_market.shape[0]):\n",
    "    df_nan_market.iloc[row,12]=grouped_sectors_for_marketCap[df_nan_market.iloc[row]['sector']]"
   ]
  },
  {
   "cell_type": "code",
   "execution_count": 733,
   "id": "fa234bb0",
   "metadata": {},
   "outputs": [
    {
     "data": {
      "text/html": [
       "<div>\n",
       "<style scoped>\n",
       "    .dataframe tbody tr th:only-of-type {\n",
       "        vertical-align: middle;\n",
       "    }\n",
       "\n",
       "    .dataframe tbody tr th {\n",
       "        vertical-align: top;\n",
       "    }\n",
       "\n",
       "    .dataframe thead th {\n",
       "        text-align: right;\n",
       "    }\n",
       "</style>\n",
       "<table border=\"1\" class=\"dataframe\">\n",
       "  <thead>\n",
       "    <tr style=\"text-align: right;\">\n",
       "      <th></th>\n",
       "      <th>rank</th>\n",
       "      <th>rank_change</th>\n",
       "      <th>revenue</th>\n",
       "      <th>profit</th>\n",
       "      <th>num. of employees</th>\n",
       "      <th>sector</th>\n",
       "      <th>city</th>\n",
       "      <th>state</th>\n",
       "      <th>newcomer</th>\n",
       "      <th>ceo_founder</th>\n",
       "      <th>ceo_woman</th>\n",
       "      <th>profitable</th>\n",
       "      <th>Market Cap</th>\n",
       "    </tr>\n",
       "  </thead>\n",
       "  <tbody>\n",
       "    <tr>\n",
       "      <th>41</th>\n",
       "      <td>42</td>\n",
       "      <td>-3.0</td>\n",
       "      <td>82224.7</td>\n",
       "      <td>1280.9</td>\n",
       "      <td>53586.0</td>\n",
       "      <td>financials</td>\n",
       "      <td>bloomington</td>\n",
       "      <td>il</td>\n",
       "      <td>no</td>\n",
       "      <td>no</td>\n",
       "      <td>no</td>\n",
       "      <td>yes</td>\n",
       "      <td>19135.7</td>\n",
       "    </tr>\n",
       "    <tr>\n",
       "      <th>71</th>\n",
       "      <td>72</td>\n",
       "      <td>-5.0</td>\n",
       "      <td>51198.5</td>\n",
       "      <td>277.1</td>\n",
       "      <td>14344.0</td>\n",
       "      <td>financials</td>\n",
       "      <td>new york</td>\n",
       "      <td>ny</td>\n",
       "      <td>no</td>\n",
       "      <td>no</td>\n",
       "      <td>no</td>\n",
       "      <td>yes</td>\n",
       "      <td>19135.7</td>\n",
       "    </tr>\n",
       "    <tr>\n",
       "      <th>75</th>\n",
       "      <td>76</td>\n",
       "      <td>-7.0</td>\n",
       "      <td>48393.9</td>\n",
       "      <td>4412.2</td>\n",
       "      <td>232000.0</td>\n",
       "      <td>food &amp; drug stores</td>\n",
       "      <td>lakeland</td>\n",
       "      <td>fl</td>\n",
       "      <td>no</td>\n",
       "      <td>no</td>\n",
       "      <td>no</td>\n",
       "      <td>yes</td>\n",
       "      <td>3347.4</td>\n",
       "    </tr>\n",
       "    <tr>\n",
       "      <th>77</th>\n",
       "      <td>78</td>\n",
       "      <td>-7.0</td>\n",
       "      <td>48200.0</td>\n",
       "      <td>3068.0</td>\n",
       "      <td>45000.0</td>\n",
       "      <td>financials</td>\n",
       "      <td>boston</td>\n",
       "      <td>ma</td>\n",
       "      <td>no</td>\n",
       "      <td>no</td>\n",
       "      <td>no</td>\n",
       "      <td>yes</td>\n",
       "      <td>19135.7</td>\n",
       "    </tr>\n",
       "    <tr>\n",
       "      <th>79</th>\n",
       "      <td>80</td>\n",
       "      <td>-4.0</td>\n",
       "      <td>47376.0</td>\n",
       "      <td>1617.2</td>\n",
       "      <td>24134.0</td>\n",
       "      <td>financials</td>\n",
       "      <td>columbus</td>\n",
       "      <td>oh</td>\n",
       "      <td>no</td>\n",
       "      <td>no</td>\n",
       "      <td>no</td>\n",
       "      <td>yes</td>\n",
       "      <td>19135.7</td>\n",
       "    </tr>\n",
       "  </tbody>\n",
       "</table>\n",
       "</div>"
      ],
      "text/plain": [
       "    rank  rank_change  revenue  profit  num. of employees              sector  \\\n",
       "41    42         -3.0  82224.7  1280.9            53586.0          financials   \n",
       "71    72         -5.0  51198.5   277.1            14344.0          financials   \n",
       "75    76         -7.0  48393.9  4412.2           232000.0  food & drug stores   \n",
       "77    78         -7.0  48200.0  3068.0            45000.0          financials   \n",
       "79    80         -4.0  47376.0  1617.2            24134.0          financials   \n",
       "\n",
       "           city state newcomer ceo_founder ceo_woman profitable  Market Cap  \n",
       "41  bloomington    il       no          no        no        yes     19135.7  \n",
       "71     new york    ny       no          no        no        yes     19135.7  \n",
       "75     lakeland    fl       no          no        no        yes      3347.4  \n",
       "77       boston    ma       no          no        no        yes     19135.7  \n",
       "79     columbus    oh       no          no        no        yes     19135.7  "
      ]
     },
     "execution_count": 733,
     "metadata": {},
     "output_type": "execute_result"
    }
   ],
   "source": [
    "df_nan_market.head()"
   ]
  },
  {
   "cell_type": "code",
   "execution_count": 734,
   "id": "adc965a4",
   "metadata": {},
   "outputs": [
    {
     "data": {
      "text/html": [
       "<div>\n",
       "<style scoped>\n",
       "    .dataframe tbody tr th:only-of-type {\n",
       "        vertical-align: middle;\n",
       "    }\n",
       "\n",
       "    .dataframe tbody tr th {\n",
       "        vertical-align: top;\n",
       "    }\n",
       "\n",
       "    .dataframe thead th {\n",
       "        text-align: right;\n",
       "    }\n",
       "</style>\n",
       "<table border=\"1\" class=\"dataframe\">\n",
       "  <thead>\n",
       "    <tr style=\"text-align: right;\">\n",
       "      <th></th>\n",
       "      <th>rank</th>\n",
       "      <th>rank_change</th>\n",
       "      <th>revenue</th>\n",
       "      <th>profit</th>\n",
       "      <th>num. of employees</th>\n",
       "      <th>sector</th>\n",
       "      <th>city</th>\n",
       "      <th>state</th>\n",
       "      <th>newcomer</th>\n",
       "      <th>ceo_founder</th>\n",
       "      <th>ceo_woman</th>\n",
       "      <th>profitable</th>\n",
       "      <th>Market Cap</th>\n",
       "    </tr>\n",
       "  </thead>\n",
       "  <tbody>\n",
       "    <tr>\n",
       "      <th>0</th>\n",
       "      <td>1</td>\n",
       "      <td>0.0</td>\n",
       "      <td>572754.0</td>\n",
       "      <td>13673.0</td>\n",
       "      <td>2300000.0</td>\n",
       "      <td>retailing</td>\n",
       "      <td>bentonville</td>\n",
       "      <td>ar</td>\n",
       "      <td>no</td>\n",
       "      <td>no</td>\n",
       "      <td>no</td>\n",
       "      <td>yes</td>\n",
       "      <td>352037.0</td>\n",
       "    </tr>\n",
       "    <tr>\n",
       "      <th>1</th>\n",
       "      <td>2</td>\n",
       "      <td>0.0</td>\n",
       "      <td>469822.0</td>\n",
       "      <td>33364.0</td>\n",
       "      <td>1608000.0</td>\n",
       "      <td>retailing</td>\n",
       "      <td>seattle</td>\n",
       "      <td>wa</td>\n",
       "      <td>no</td>\n",
       "      <td>no</td>\n",
       "      <td>no</td>\n",
       "      <td>yes</td>\n",
       "      <td>1202717.0</td>\n",
       "    </tr>\n",
       "    <tr>\n",
       "      <th>2</th>\n",
       "      <td>3</td>\n",
       "      <td>0.0</td>\n",
       "      <td>365817.0</td>\n",
       "      <td>94680.0</td>\n",
       "      <td>154000.0</td>\n",
       "      <td>technology</td>\n",
       "      <td>cupertino</td>\n",
       "      <td>ca</td>\n",
       "      <td>no</td>\n",
       "      <td>no</td>\n",
       "      <td>no</td>\n",
       "      <td>yes</td>\n",
       "      <td>2443962.0</td>\n",
       "    </tr>\n",
       "    <tr>\n",
       "      <th>3</th>\n",
       "      <td>4</td>\n",
       "      <td>0.0</td>\n",
       "      <td>292111.0</td>\n",
       "      <td>7910.0</td>\n",
       "      <td>258000.0</td>\n",
       "      <td>health care</td>\n",
       "      <td>woonsocket</td>\n",
       "      <td>ri</td>\n",
       "      <td>no</td>\n",
       "      <td>no</td>\n",
       "      <td>yes</td>\n",
       "      <td>yes</td>\n",
       "      <td>125204.0</td>\n",
       "    </tr>\n",
       "    <tr>\n",
       "      <th>4</th>\n",
       "      <td>5</td>\n",
       "      <td>0.0</td>\n",
       "      <td>287597.0</td>\n",
       "      <td>17285.0</td>\n",
       "      <td>350000.0</td>\n",
       "      <td>health care</td>\n",
       "      <td>minnetonka</td>\n",
       "      <td>mn</td>\n",
       "      <td>no</td>\n",
       "      <td>no</td>\n",
       "      <td>no</td>\n",
       "      <td>yes</td>\n",
       "      <td>500468.0</td>\n",
       "    </tr>\n",
       "  </tbody>\n",
       "</table>\n",
       "</div>"
      ],
      "text/plain": [
       "   rank  rank_change   revenue   profit  num. of employees       sector  \\\n",
       "0     1          0.0  572754.0  13673.0          2300000.0    retailing   \n",
       "1     2          0.0  469822.0  33364.0          1608000.0    retailing   \n",
       "2     3          0.0  365817.0  94680.0           154000.0   technology   \n",
       "3     4          0.0  292111.0   7910.0           258000.0  health care   \n",
       "4     5          0.0  287597.0  17285.0           350000.0  health care   \n",
       "\n",
       "          city state newcomer ceo_founder ceo_woman profitable  Market Cap  \n",
       "0  bentonville    ar       no          no        no        yes    352037.0  \n",
       "1      seattle    wa       no          no        no        yes   1202717.0  \n",
       "2    cupertino    ca       no          no        no        yes   2443962.0  \n",
       "3   woonsocket    ri       no          no       yes        yes    125204.0  \n",
       "4   minnetonka    mn       no          no        no        yes    500468.0  "
      ]
     },
     "execution_count": 734,
     "metadata": {},
     "output_type": "execute_result"
    }
   ],
   "source": [
    "new_df=pd.concat([df_exist_market,df_nan_market],axis=0)\n",
    "new_df.head()"
   ]
  },
  {
   "cell_type": "code",
   "execution_count": 735,
   "id": "a5099d2a",
   "metadata": {},
   "outputs": [
    {
     "data": {
      "text/plain": [
       "(1000, 13)"
      ]
     },
     "execution_count": 735,
     "metadata": {},
     "output_type": "execute_result"
    }
   ],
   "source": [
    "new_df.shape"
   ]
  },
  {
   "cell_type": "code",
   "execution_count": 736,
   "id": "a540c0c2",
   "metadata": {},
   "outputs": [
    {
     "data": {
      "text/plain": [
       "rank                 0\n",
       "rank_change          0\n",
       "revenue              0\n",
       "profit               3\n",
       "num. of employees    1\n",
       "sector               0\n",
       "city                 0\n",
       "state                0\n",
       "newcomer             0\n",
       "ceo_founder          0\n",
       "ceo_woman            0\n",
       "profitable           0\n",
       "Market Cap           0\n",
       "dtype: int64"
      ]
     },
     "execution_count": 736,
     "metadata": {},
     "output_type": "execute_result"
    }
   ],
   "source": [
    "new_df.isnull().sum()"
   ]
  },
  {
   "cell_type": "code",
   "execution_count": 737,
   "id": "721dfb18",
   "metadata": {},
   "outputs": [],
   "source": [
    "new_df.dropna(inplace=True)"
   ]
  },
  {
   "cell_type": "code",
   "execution_count": 738,
   "id": "b88b03f5",
   "metadata": {},
   "outputs": [
    {
     "data": {
      "text/plain": [
       "rank                 0\n",
       "rank_change          0\n",
       "revenue              0\n",
       "profit               0\n",
       "num. of employees    0\n",
       "sector               0\n",
       "city                 0\n",
       "state                0\n",
       "newcomer             0\n",
       "ceo_founder          0\n",
       "ceo_woman            0\n",
       "profitable           0\n",
       "Market Cap           0\n",
       "dtype: int64"
      ]
     },
     "execution_count": 738,
     "metadata": {},
     "output_type": "execute_result"
    }
   ],
   "source": [
    "new_df.isnull().sum()"
   ]
  },
  {
   "cell_type": "code",
   "execution_count": 739,
   "id": "180ce137",
   "metadata": {},
   "outputs": [
    {
     "data": {
      "image/png": "[encoded data removed]",
      "text/plain": [
       "<Figure size 640x480 with 1 Axes>"
      ]
     },
     "metadata": {},
     "output_type": "display_data"
    }
   ],
   "source": [
    "plt.hist(new_df['Market Cap'])\n",
    "plt.show()"
   ]
  },
  {
   "cell_type": "code",
   "execution_count": 740,
   "id": "2ab8b2ad",
   "metadata": {},
   "outputs": [
    {
     "data": {
      "text/plain": [
       "<Axes: xlabel='Market Cap'>"
      ]
     },
     "execution_count": 740,
     "metadata": {},
     "output_type": "execute_result"
    },
    {
     "data": {
      "image/png": "[encoded data removed]",
      "text/plain": [
       "<Figure size 640x480 with 1 Axes>"
      ]
     },
     "metadata": {},
     "output_type": "display_data"
    }
   ],
   "source": [
    "sns.boxplot(x=new_df['Market Cap'])"
   ]
  },
  {
   "cell_type": "code",
   "execution_count": 741,
   "id": "dbf7240f",
   "metadata": {},
   "outputs": [
    {
     "name": "stdout",
     "output_type": "stream",
     "text": [
      "<class 'pandas.core.frame.DataFrame'>\n",
      "Index: 996 entries, 0 to 947\n",
      "Data columns (total 13 columns):\n",
      " #   Column             Non-Null Count  Dtype   \n",
      "---  ------             --------------  -----   \n",
      " 0   rank               996 non-null    int64   \n",
      " 1   rank_change        996 non-null    float64 \n",
      " 2   revenue            996 non-null    float64 \n",
      " 3   profit             996 non-null    float64 \n",
      " 4   num. of employees  996 non-null    float64 \n",
      " 5   sector             996 non-null    category\n",
      " 6   city               996 non-null    category\n",
      " 7   state              996 non-null    category\n",
      " 8   newcomer           996 non-null    category\n",
      " 9   ceo_founder        996 non-null    category\n",
      " 10  ceo_woman          996 non-null    category\n",
      " 11  profitable         996 non-null    category\n",
      " 12  Market Cap         996 non-null    float64 \n",
      "dtypes: category(7), float64(5), int64(1)\n",
      "memory usage: 84.1 KB\n"
     ]
    }
   ],
   "source": [
    "new_df.info()"
   ]
  },
  {
   "cell_type": "code",
   "execution_count": 742,
   "id": "7d0585fd",
   "metadata": {},
   "outputs": [
    {
     "data": {
      "text/plain": [
       "sector\n",
       "financials                       166\n",
       "technology                       121\n",
       "energy                            99\n",
       "health care                       77\n",
       "retailing                         77\n",
       "business services                 52\n",
       "industrials                       50\n",
       "materials                         46\n",
       "transportation                    35\n",
       "food, beverages & tobacco         34\n",
       "engineering & construction        32\n",
       "wholesalers                       31\n",
       "chemicals                         29\n",
       "hotels, restaurants & leisure     28\n",
       "media                             27\n",
       "household products                23\n",
       "motor vehicles & parts            19\n",
       "aerospace & defense               17\n",
       "apparel                           16\n",
       "food & drug stores                 9\n",
       "telecommunications                 8\n",
       "Name: count, dtype: int64"
      ]
     },
     "execution_count": 742,
     "metadata": {},
     "output_type": "execute_result"
    }
   ],
   "source": [
    "new_df['sector'].value_counts()"
   ]
  },
  {
   "cell_type": "code",
   "execution_count": 743,
   "id": "2ff3abb4",
   "metadata": {},
   "outputs": [],
   "source": [
    "general_sectors = {\n",
    "    'retailing': 'consumer',\n",
    "    'food & drug stores': 'consumer',\n",
    "    'food, beverages & tobacco': 'consumer',\n",
    "    'apparel': 'consumer',\n",
    "    'household products': 'consumer',\n",
    "\n",
    "    'technology': 'technology',\n",
    "    'telecommunications': 'technology',\n",
    "    'media': 'technology',\n",
    "\n",
    "    'health care': 'healthcare',\n",
    "\n",
    "    'energy': 'energy',\n",
    "\n",
    "    'financials': 'financials',\n",
    "\n",
    "    'motor vehicles & parts': 'industrials',\n",
    "    'transportation': 'industrials',\n",
    "    'industrials': 'industrials',\n",
    "    'engineering & construction': 'industrials',\n",
    "    'aerospace & defense': 'industrials',\n",
    "\n",
    "    'chemicals': 'materials',\n",
    "    'materials': 'materials',\n",
    "    'wholesalers': 'materials',\n",
    "\n",
    "    'business services': 'services',\n",
    "    'hotels, restaurants & leisure': 'services'\n",
    "}"
   ]
  },
  {
   "cell_type": "code",
   "execution_count": 744,
   "id": "f628f60c",
   "metadata": {},
   "outputs": [],
   "source": [
    "new_df['general sector']=new_df['sector'].map(general_sectors)"
   ]
  },
  {
   "cell_type": "code",
   "execution_count": 745,
   "id": "ef0889d2",
   "metadata": {},
   "outputs": [
    {
     "data": {
      "text/html": [
       "<div>\n",
       "<style scoped>\n",
       "    .dataframe tbody tr th:only-of-type {\n",
       "        vertical-align: middle;\n",
       "    }\n",
       "\n",
       "    .dataframe tbody tr th {\n",
       "        vertical-align: top;\n",
       "    }\n",
       "\n",
       "    .dataframe thead th {\n",
       "        text-align: right;\n",
       "    }\n",
       "</style>\n",
       "<table border=\"1\" class=\"dataframe\">\n",
       "  <thead>\n",
       "    <tr style=\"text-align: right;\">\n",
       "      <th></th>\n",
       "      <th>rank</th>\n",
       "      <th>rank_change</th>\n",
       "      <th>revenue</th>\n",
       "      <th>profit</th>\n",
       "      <th>num. of employees</th>\n",
       "      <th>sector</th>\n",
       "      <th>city</th>\n",
       "      <th>state</th>\n",
       "      <th>newcomer</th>\n",
       "      <th>ceo_founder</th>\n",
       "      <th>ceo_woman</th>\n",
       "      <th>profitable</th>\n",
       "      <th>Market Cap</th>\n",
       "      <th>general sector</th>\n",
       "    </tr>\n",
       "  </thead>\n",
       "  <tbody>\n",
       "    <tr>\n",
       "      <th>0</th>\n",
       "      <td>1</td>\n",
       "      <td>0.0</td>\n",
       "      <td>572754.0</td>\n",
       "      <td>13673.0</td>\n",
       "      <td>2300000.0</td>\n",
       "      <td>retailing</td>\n",
       "      <td>bentonville</td>\n",
       "      <td>ar</td>\n",
       "      <td>no</td>\n",
       "      <td>no</td>\n",
       "      <td>no</td>\n",
       "      <td>yes</td>\n",
       "      <td>352037.0</td>\n",
       "      <td>consumer</td>\n",
       "    </tr>\n",
       "    <tr>\n",
       "      <th>1</th>\n",
       "      <td>2</td>\n",
       "      <td>0.0</td>\n",
       "      <td>469822.0</td>\n",
       "      <td>33364.0</td>\n",
       "      <td>1608000.0</td>\n",
       "      <td>retailing</td>\n",
       "      <td>seattle</td>\n",
       "      <td>wa</td>\n",
       "      <td>no</td>\n",
       "      <td>no</td>\n",
       "      <td>no</td>\n",
       "      <td>yes</td>\n",
       "      <td>1202717.0</td>\n",
       "      <td>consumer</td>\n",
       "    </tr>\n",
       "    <tr>\n",
       "      <th>2</th>\n",
       "      <td>3</td>\n",
       "      <td>0.0</td>\n",
       "      <td>365817.0</td>\n",
       "      <td>94680.0</td>\n",
       "      <td>154000.0</td>\n",
       "      <td>technology</td>\n",
       "      <td>cupertino</td>\n",
       "      <td>ca</td>\n",
       "      <td>no</td>\n",
       "      <td>no</td>\n",
       "      <td>no</td>\n",
       "      <td>yes</td>\n",
       "      <td>2443962.0</td>\n",
       "      <td>technology</td>\n",
       "    </tr>\n",
       "    <tr>\n",
       "      <th>3</th>\n",
       "      <td>4</td>\n",
       "      <td>0.0</td>\n",
       "      <td>292111.0</td>\n",
       "      <td>7910.0</td>\n",
       "      <td>258000.0</td>\n",
       "      <td>health care</td>\n",
       "      <td>woonsocket</td>\n",
       "      <td>ri</td>\n",
       "      <td>no</td>\n",
       "      <td>no</td>\n",
       "      <td>yes</td>\n",
       "      <td>yes</td>\n",
       "      <td>125204.0</td>\n",
       "      <td>healthcare</td>\n",
       "    </tr>\n",
       "    <tr>\n",
       "      <th>4</th>\n",
       "      <td>5</td>\n",
       "      <td>0.0</td>\n",
       "      <td>287597.0</td>\n",
       "      <td>17285.0</td>\n",
       "      <td>350000.0</td>\n",
       "      <td>health care</td>\n",
       "      <td>minnetonka</td>\n",
       "      <td>mn</td>\n",
       "      <td>no</td>\n",
       "      <td>no</td>\n",
       "      <td>no</td>\n",
       "      <td>yes</td>\n",
       "      <td>500468.0</td>\n",
       "      <td>healthcare</td>\n",
       "    </tr>\n",
       "  </tbody>\n",
       "</table>\n",
       "</div>"
      ],
      "text/plain": [
       "   rank  rank_change   revenue   profit  num. of employees       sector  \\\n",
       "0     1          0.0  572754.0  13673.0          2300000.0    retailing   \n",
       "1     2          0.0  469822.0  33364.0          1608000.0    retailing   \n",
       "2     3          0.0  365817.0  94680.0           154000.0   technology   \n",
       "3     4          0.0  292111.0   7910.0           258000.0  health care   \n",
       "4     5          0.0  287597.0  17285.0           350000.0  health care   \n",
       "\n",
       "          city state newcomer ceo_founder ceo_woman profitable  Market Cap  \\\n",
       "0  bentonville    ar       no          no        no        yes    352037.0   \n",
       "1      seattle    wa       no          no        no        yes   1202717.0   \n",
       "2    cupertino    ca       no          no        no        yes   2443962.0   \n",
       "3   woonsocket    ri       no          no       yes        yes    125204.0   \n",
       "4   minnetonka    mn       no          no        no        yes    500468.0   \n",
       "\n",
       "  general sector  \n",
       "0       consumer  \n",
       "1       consumer  \n",
       "2     technology  \n",
       "3     healthcare  \n",
       "4     healthcare  "
      ]
     },
     "execution_count": 745,
     "metadata": {},
     "output_type": "execute_result"
    }
   ],
   "source": [
    "new_df.head()"
   ]
  },
  {
   "cell_type": "code",
   "execution_count": 746,
   "id": "1c51c50e",
   "metadata": {},
   "outputs": [
    {
     "name": "stdout",
     "output_type": "stream",
     "text": [
      "<class 'pandas.core.frame.DataFrame'>\n",
      "Index: 996 entries, 0 to 947\n",
      "Data columns (total 14 columns):\n",
      " #   Column             Non-Null Count  Dtype   \n",
      "---  ------             --------------  -----   \n",
      " 0   rank               996 non-null    int64   \n",
      " 1   rank_change        996 non-null    float64 \n",
      " 2   revenue            996 non-null    float64 \n",
      " 3   profit             996 non-null    float64 \n",
      " 4   num. of employees  996 non-null    float64 \n",
      " 5   sector             996 non-null    category\n",
      " 6   city               996 non-null    category\n",
      " 7   state              996 non-null    category\n",
      " 8   newcomer           996 non-null    category\n",
      " 9   ceo_founder        996 non-null    category\n",
      " 10  ceo_woman          996 non-null    category\n",
      " 11  profitable         996 non-null    category\n",
      " 12  Market Cap         996 non-null    float64 \n",
      " 13  general sector     996 non-null    object  \n",
      "dtypes: category(7), float64(5), int64(1), object(1)\n",
      "memory usage: 91.9+ KB\n"
     ]
    }
   ],
   "source": [
    "new_df.info()"
   ]
  },
  {
   "cell_type": "code",
   "execution_count": 747,
   "id": "fd1905b3",
   "metadata": {},
   "outputs": [],
   "source": [
    "new_df['general sector']=new_df['general sector'].astype('category')"
   ]
  },
  {
   "cell_type": "code",
   "execution_count": 748,
   "id": "14327313",
   "metadata": {},
   "outputs": [
    {
     "name": "stdout",
     "output_type": "stream",
     "text": [
      "<class 'pandas.core.frame.DataFrame'>\n",
      "Index: 996 entries, 0 to 947\n",
      "Data columns (total 14 columns):\n",
      " #   Column             Non-Null Count  Dtype   \n",
      "---  ------             --------------  -----   \n",
      " 0   rank               996 non-null    int64   \n",
      " 1   rank_change        996 non-null    float64 \n",
      " 2   revenue            996 non-null    float64 \n",
      " 3   profit             996 non-null    float64 \n",
      " 4   num. of employees  996 non-null    float64 \n",
      " 5   sector             996 non-null    category\n",
      " 6   city               996 non-null    category\n",
      " 7   state              996 non-null    category\n",
      " 8   newcomer           996 non-null    category\n",
      " 9   ceo_founder        996 non-null    category\n",
      " 10  ceo_woman          996 non-null    category\n",
      " 11  profitable         996 non-null    category\n",
      " 12  Market Cap         996 non-null    float64 \n",
      " 13  general sector     996 non-null    category\n",
      "dtypes: category(8), float64(5), int64(1)\n",
      "memory usage: 85.5 KB\n"
     ]
    }
   ],
   "source": [
    "new_df.info()"
   ]
  },
  {
   "cell_type": "code",
   "execution_count": 749,
   "id": "b07a6628",
   "metadata": {},
   "outputs": [],
   "source": [
    "# def alt_handel_outliers(df, columns):\n",
    "#     extrem_outlier_counts={}\n",
    "#     for col in columns:\n",
    "#         Q1 = df[col].quantile(0.25)\n",
    "#         Q3 = df[col].quantile(0.75)\n",
    "#         IQR = Q3 - Q1\n",
    "        \n",
    "#         # Define boundaries\n",
    "#         lower_small = Q1 - 1.5 * IQR\n",
    "#         upper_small = Q3 + 1.5 * IQR\n",
    "        \n",
    "#         del_outliers=df[(df[col]<lower_small) | (df[col]>upper_small)].copy()\n",
    "        \n",
    "#         extrem_outlier_counts[col]=del_outliers.shape[0]\n",
    "#         # 1. Remove rows with far outliers\n",
    "#         df = df[(df[col] >= lower_small) & (df[col] <= upper_small)]\n",
    "\n",
    "#     return df,extrem_outlier_counts\n"
   ]
  },
  {
   "cell_type": "code",
   "execution_count": 750,
   "id": "8f9092e9",
   "metadata": {},
   "outputs": [],
   "source": [
    "def handel_outliers(df, columns):\n",
    "    extrem_outlier_counts={}\n",
    "    for col in columns:\n",
    "        Q1 = df[col].quantile(0.25)\n",
    "        Q3 = df[col].quantile(0.75)\n",
    "        IQR = Q3 - Q1\n",
    "        \n",
    "        # Define boundaries\n",
    "        lower_small = Q1 - 1.5 * IQR\n",
    "        upper_small = Q3 + 1.5 * IQR\n",
    "        \n",
    "        lower_far = Q1 - 4 * IQR\n",
    "        upper_far = Q3 + 4 * IQR\n",
    "\n",
    "        del_outliers=df[(df[col]<lower_far) | (df[col]>upper_far)].copy()\n",
    "        \n",
    "        extrem_outlier_counts[col]=del_outliers.shape[0]\n",
    "        \n",
    "        # 1. Remove rows with far outliers\n",
    "        df = df[(df[col] >= lower_far) & (df[col] <= upper_far)]\n",
    "        \n",
    "        # # 2. Cap small outliers (between 1.5*IQR and 3*IQR)\n",
    "        # df[col] = df[col].apply(lambda x: lower_small if x < lower_small else x)\n",
    "        # df[col] = df[col].apply(lambda x: upper_small if x > upper_small else x)\n",
    "\n",
    "    return df,extrem_outlier_counts\n"
   ]
  },
  {
   "cell_type": "code",
   "execution_count": 751,
   "id": "3518f584",
   "metadata": {},
   "outputs": [
    {
     "data": {
      "image/png": "[encoded data removed]",
      "text/plain": [
       "<Figure size 640x480 with 1 Axes>"
      ]
     },
     "metadata": {},
     "output_type": "display_data"
    }
   ],
   "source": [
    "sns.scatterplot(x='profit',y='Market Cap',data=new_df)\n",
    "plt.show()"
   ]
  },
  {
   "cell_type": "code",
   "execution_count": 752,
   "id": "a82ece50",
   "metadata": {},
   "outputs": [],
   "source": [
    "imp_columns=['Market Cap','revenue','num. of employees','profit']\n",
    "tst_df,extrem_outliers_count=handel_outliers(new_df,imp_columns)"
   ]
  },
  {
   "cell_type": "code",
   "execution_count": 753,
   "id": "2ba6fc88",
   "metadata": {},
   "outputs": [
    {
     "data": {
      "image/png": "[encoded data removed]",
      "text/plain": [
       "<Figure size 640x480 with 1 Axes>"
      ]
     },
     "metadata": {},
     "output_type": "display_data"
    }
   ],
   "source": [
    "sns.scatterplot(x='profit',y='Market Cap',data=tst_df)\n",
    "plt.show()"
   ]
  },
  {
   "cell_type": "code",
   "execution_count": 754,
   "id": "505e68b1",
   "metadata": {},
   "outputs": [
    {
     "data": {
      "text/plain": [
       "(851, 14)"
      ]
     },
     "execution_count": 754,
     "metadata": {},
     "output_type": "execute_result"
    }
   ],
   "source": [
    "tst_df.shape"
   ]
  },
  {
   "cell_type": "code",
   "execution_count": 755,
   "id": "d82ccc66",
   "metadata": {},
   "outputs": [
    {
     "data": {
      "text/plain": [
       "{'Market Cap': 50, 'revenue': 43, 'num. of employees': 27, 'profit': 25}"
      ]
     },
     "execution_count": 755,
     "metadata": {},
     "output_type": "execute_result"
    }
   ],
   "source": [
    "extrem_outliers_count"
   ]
  },
  {
   "cell_type": "code",
   "execution_count": 756,
   "id": "9b5fe542",
   "metadata": {},
   "outputs": [
    {
     "data": {
      "text/html": [
       "<div>\n",
       "<style scoped>\n",
       "    .dataframe tbody tr th:only-of-type {\n",
       "        vertical-align: middle;\n",
       "    }\n",
       "\n",
       "    .dataframe tbody tr th {\n",
       "        vertical-align: top;\n",
       "    }\n",
       "\n",
       "    .dataframe thead th {\n",
       "        text-align: right;\n",
       "    }\n",
       "</style>\n",
       "<table border=\"1\" class=\"dataframe\">\n",
       "  <thead>\n",
       "    <tr style=\"text-align: right;\">\n",
       "      <th></th>\n",
       "      <th>count</th>\n",
       "      <th>mean</th>\n",
       "      <th>std</th>\n",
       "      <th>min</th>\n",
       "      <th>25%</th>\n",
       "      <th>50%</th>\n",
       "      <th>75%</th>\n",
       "      <th>max</th>\n",
       "    </tr>\n",
       "  </thead>\n",
       "  <tbody>\n",
       "    <tr>\n",
       "      <th>rank</th>\n",
       "      <td>851.0</td>\n",
       "      <td>565.556992</td>\n",
       "      <td>255.541464</td>\n",
       "      <td>78.0</td>\n",
       "      <td>349.50</td>\n",
       "      <td>572.0</td>\n",
       "      <td>785.50</td>\n",
       "      <td>1000.0</td>\n",
       "    </tr>\n",
       "    <tr>\n",
       "      <th>rank_change</th>\n",
       "      <td>851.0</td>\n",
       "      <td>-0.952996</td>\n",
       "      <td>31.286120</td>\n",
       "      <td>-178.0</td>\n",
       "      <td>0.00</td>\n",
       "      <td>0.0</td>\n",
       "      <td>0.00</td>\n",
       "      <td>200.0</td>\n",
       "    </tr>\n",
       "    <tr>\n",
       "      <th>revenue</th>\n",
       "      <td>851.0</td>\n",
       "      <td>8124.500705</td>\n",
       "      <td>7235.657839</td>\n",
       "      <td>2107.2</td>\n",
       "      <td>3301.25</td>\n",
       "      <td>5336.3</td>\n",
       "      <td>10399.50</td>\n",
       "      <td>48200.0</td>\n",
       "    </tr>\n",
       "    <tr>\n",
       "      <th>profit</th>\n",
       "      <td>851.0</td>\n",
       "      <td>732.660517</td>\n",
       "      <td>965.959055</td>\n",
       "      <td>-2343.0</td>\n",
       "      <td>156.15</td>\n",
       "      <td>457.4</td>\n",
       "      <td>1007.80</td>\n",
       "      <td>4666.5</td>\n",
       "    </tr>\n",
       "    <tr>\n",
       "      <th>num. of employees</th>\n",
       "      <td>851.0</td>\n",
       "      <td>16989.196240</td>\n",
       "      <td>17171.442445</td>\n",
       "      <td>160.0</td>\n",
       "      <td>5886.00</td>\n",
       "      <td>11307.0</td>\n",
       "      <td>21450.00</td>\n",
       "      <td>90000.0</td>\n",
       "    </tr>\n",
       "    <tr>\n",
       "      <th>Market Cap</th>\n",
       "      <td>851.0</td>\n",
       "      <td>17092.390423</td>\n",
       "      <td>20152.773521</td>\n",
       "      <td>149.0</td>\n",
       "      <td>3870.15</td>\n",
       "      <td>9539.0</td>\n",
       "      <td>21088.15</td>\n",
       "      <td>135987.6</td>\n",
       "    </tr>\n",
       "  </tbody>\n",
       "</table>\n",
       "</div>"
      ],
      "text/plain": [
       "                   count          mean           std     min      25%  \\\n",
       "rank               851.0    565.556992    255.541464    78.0   349.50   \n",
       "rank_change        851.0     -0.952996     31.286120  -178.0     0.00   \n",
       "revenue            851.0   8124.500705   7235.657839  2107.2  3301.25   \n",
       "profit             851.0    732.660517    965.959055 -2343.0   156.15   \n",
       "num. of employees  851.0  16989.196240  17171.442445   160.0  5886.00   \n",
       "Market Cap         851.0  17092.390423  20152.773521   149.0  3870.15   \n",
       "\n",
       "                       50%       75%       max  \n",
       "rank                 572.0    785.50    1000.0  \n",
       "rank_change            0.0      0.00     200.0  \n",
       "revenue             5336.3  10399.50   48200.0  \n",
       "profit               457.4   1007.80    4666.5  \n",
       "num. of employees  11307.0  21450.00   90000.0  \n",
       "Market Cap          9539.0  21088.15  135987.6  "
      ]
     },
     "execution_count": 756,
     "metadata": {},
     "output_type": "execute_result"
    }
   ],
   "source": [
    "tst_df.describe().T"
   ]
  },
  {
   "cell_type": "code",
   "execution_count": 757,
   "id": "41598682",
   "metadata": {},
   "outputs": [],
   "source": [
    "final_df=tst_df.copy()"
   ]
  },
  {
   "cell_type": "code",
   "execution_count": 758,
   "id": "a941ea8b",
   "metadata": {},
   "outputs": [],
   "source": [
    "df_neg_profi=final_df[final_df['profit']<0].copy()"
   ]
  },
  {
   "cell_type": "code",
   "execution_count": 759,
   "id": "7fb193bc",
   "metadata": {},
   "outputs": [
    {
     "data": {
      "text/html": [
       "<div>\n",
       "<style scoped>\n",
       "    .dataframe tbody tr th:only-of-type {\n",
       "        vertical-align: middle;\n",
       "    }\n",
       "\n",
       "    .dataframe tbody tr th {\n",
       "        vertical-align: top;\n",
       "    }\n",
       "\n",
       "    .dataframe thead th {\n",
       "        text-align: right;\n",
       "    }\n",
       "</style>\n",
       "<table border=\"1\" class=\"dataframe\">\n",
       "  <thead>\n",
       "    <tr style=\"text-align: right;\">\n",
       "      <th></th>\n",
       "      <th>rank</th>\n",
       "      <th>rank_change</th>\n",
       "      <th>revenue</th>\n",
       "      <th>profit</th>\n",
       "      <th>num. of employees</th>\n",
       "      <th>sector</th>\n",
       "      <th>city</th>\n",
       "      <th>state</th>\n",
       "      <th>newcomer</th>\n",
       "      <th>ceo_founder</th>\n",
       "      <th>ceo_woman</th>\n",
       "      <th>profitable</th>\n",
       "      <th>Market Cap</th>\n",
       "      <th>general sector</th>\n",
       "    </tr>\n",
       "  </thead>\n",
       "  <tbody>\n",
       "    <tr>\n",
       "      <th>145</th>\n",
       "      <td>146</td>\n",
       "      <td>54.0</td>\n",
       "      <td>24634.0</td>\n",
       "      <td>-1964.0</td>\n",
       "      <td>84100.0</td>\n",
       "      <td>transportation</td>\n",
       "      <td>chicago</td>\n",
       "      <td>il</td>\n",
       "      <td>no</td>\n",
       "      <td>no</td>\n",
       "      <td>no</td>\n",
       "      <td>no</td>\n",
       "      <td>15049.7</td>\n",
       "      <td>industrials</td>\n",
       "    </tr>\n",
       "    <tr>\n",
       "      <th>147</th>\n",
       "      <td>148</td>\n",
       "      <td>-16.0</td>\n",
       "      <td>24043.4</td>\n",
       "      <td>-90.9</td>\n",
       "      <td>50000.0</td>\n",
       "      <td>food &amp; drug stores</td>\n",
       "      <td>camp hill</td>\n",
       "      <td>pa</td>\n",
       "      <td>no</td>\n",
       "      <td>no</td>\n",
       "      <td>yes</td>\n",
       "      <td>no</td>\n",
       "      <td>488.1</td>\n",
       "      <td>consumer</td>\n",
       "    </tr>\n",
       "    <tr>\n",
       "      <th>167</th>\n",
       "      <td>168</td>\n",
       "      <td>-8.0</td>\n",
       "      <td>20642.0</td>\n",
       "      <td>-102.0</td>\n",
       "      <td>26000.0</td>\n",
       "      <td>energy</td>\n",
       "      <td>san francisco</td>\n",
       "      <td>ca</td>\n",
       "      <td>no</td>\n",
       "      <td>no</td>\n",
       "      <td>yes</td>\n",
       "      <td>no</td>\n",
       "      <td>29433.7</td>\n",
       "      <td>energy</td>\n",
       "    </tr>\n",
       "    <tr>\n",
       "      <th>169</th>\n",
       "      <td>170</td>\n",
       "      <td>-30.0</td>\n",
       "      <td>20502.0</td>\n",
       "      <td>-219.0</td>\n",
       "      <td>54000.0</td>\n",
       "      <td>energy</td>\n",
       "      <td>houston</td>\n",
       "      <td>tx</td>\n",
       "      <td>no</td>\n",
       "      <td>no</td>\n",
       "      <td>no</td>\n",
       "      <td>no</td>\n",
       "      <td>37410.2</td>\n",
       "      <td>energy</td>\n",
       "    </tr>\n",
       "    <tr>\n",
       "      <th>203</th>\n",
       "      <td>204</td>\n",
       "      <td>50.0</td>\n",
       "      <td>17886.3</td>\n",
       "      <td>-1269.1</td>\n",
       "      <td>37000.0</td>\n",
       "      <td>health care</td>\n",
       "      <td>canonsburg</td>\n",
       "      <td>pa</td>\n",
       "      <td>no</td>\n",
       "      <td>no</td>\n",
       "      <td>no</td>\n",
       "      <td>no</td>\n",
       "      <td>13160.2</td>\n",
       "      <td>healthcare</td>\n",
       "    </tr>\n",
       "  </tbody>\n",
       "</table>\n",
       "</div>"
      ],
      "text/plain": [
       "     rank  rank_change  revenue  profit  num. of employees  \\\n",
       "145   146         54.0  24634.0 -1964.0            84100.0   \n",
       "147   148        -16.0  24043.4   -90.9            50000.0   \n",
       "167   168         -8.0  20642.0  -102.0            26000.0   \n",
       "169   170        -30.0  20502.0  -219.0            54000.0   \n",
       "203   204         50.0  17886.3 -1269.1            37000.0   \n",
       "\n",
       "                 sector           city state newcomer ceo_founder ceo_woman  \\\n",
       "145      transportation        chicago    il       no          no        no   \n",
       "147  food & drug stores      camp hill    pa       no          no       yes   \n",
       "167              energy  san francisco    ca       no          no       yes   \n",
       "169              energy        houston    tx       no          no        no   \n",
       "203         health care     canonsburg    pa       no          no        no   \n",
       "\n",
       "    profitable  Market Cap general sector  \n",
       "145         no     15049.7    industrials  \n",
       "147         no       488.1       consumer  \n",
       "167         no     29433.7         energy  \n",
       "169         no     37410.2         energy  \n",
       "203         no     13160.2     healthcare  "
      ]
     },
     "execution_count": 759,
     "metadata": {},
     "output_type": "execute_result"
    }
   ],
   "source": [
    "df_neg_profi.head()"
   ]
  },
  {
   "cell_type": "code",
   "execution_count": 760,
   "id": "1f47fa95",
   "metadata": {},
   "outputs": [
    {
     "data": {
      "text/html": [
       "<div>\n",
       "<style scoped>\n",
       "    .dataframe tbody tr th:only-of-type {\n",
       "        vertical-align: middle;\n",
       "    }\n",
       "\n",
       "    .dataframe tbody tr th {\n",
       "        vertical-align: top;\n",
       "    }\n",
       "\n",
       "    .dataframe thead th {\n",
       "        text-align: right;\n",
       "    }\n",
       "</style>\n",
       "<table border=\"1\" class=\"dataframe\">\n",
       "  <thead>\n",
       "    <tr style=\"text-align: right;\">\n",
       "      <th></th>\n",
       "      <th>count</th>\n",
       "      <th>mean</th>\n",
       "      <th>std</th>\n",
       "      <th>min</th>\n",
       "      <th>25%</th>\n",
       "      <th>50%</th>\n",
       "      <th>75%</th>\n",
       "      <th>max</th>\n",
       "    </tr>\n",
       "  </thead>\n",
       "  <tbody>\n",
       "    <tr>\n",
       "      <th>rank</th>\n",
       "      <td>107.0</td>\n",
       "      <td>640.373832</td>\n",
       "      <td>243.400769</td>\n",
       "      <td>146.0</td>\n",
       "      <td>468.5</td>\n",
       "      <td>657.0</td>\n",
       "      <td>854.50</td>\n",
       "      <td>1000.0</td>\n",
       "    </tr>\n",
       "    <tr>\n",
       "      <th>rank_change</th>\n",
       "      <td>107.0</td>\n",
       "      <td>-1.869159</td>\n",
       "      <td>36.035644</td>\n",
       "      <td>-115.0</td>\n",
       "      <td>0.0</td>\n",
       "      <td>0.0</td>\n",
       "      <td>0.00</td>\n",
       "      <td>193.0</td>\n",
       "    </tr>\n",
       "    <tr>\n",
       "      <th>revenue</th>\n",
       "      <td>107.0</td>\n",
       "      <td>6170.838318</td>\n",
       "      <td>4857.603078</td>\n",
       "      <td>2107.2</td>\n",
       "      <td>2902.5</td>\n",
       "      <td>4405.5</td>\n",
       "      <td>7134.50</td>\n",
       "      <td>24634.0</td>\n",
       "    </tr>\n",
       "    <tr>\n",
       "      <th>profit</th>\n",
       "      <td>107.0</td>\n",
       "      <td>-366.427103</td>\n",
       "      <td>424.221566</td>\n",
       "      <td>-2343.0</td>\n",
       "      <td>-472.3</td>\n",
       "      <td>-203.5</td>\n",
       "      <td>-83.25</td>\n",
       "      <td>-1.4</td>\n",
       "    </tr>\n",
       "    <tr>\n",
       "      <th>num. of employees</th>\n",
       "      <td>107.0</td>\n",
       "      <td>14258.289720</td>\n",
       "      <td>14633.555425</td>\n",
       "      <td>160.0</td>\n",
       "      <td>4526.5</td>\n",
       "      <td>9800.0</td>\n",
       "      <td>20018.00</td>\n",
       "      <td>84100.0</td>\n",
       "    </tr>\n",
       "    <tr>\n",
       "      <th>Market Cap</th>\n",
       "      <td>107.0</td>\n",
       "      <td>12004.483178</td>\n",
       "      <td>16866.463345</td>\n",
       "      <td>149.0</td>\n",
       "      <td>1828.1</td>\n",
       "      <td>6275.3</td>\n",
       "      <td>14462.80</td>\n",
       "      <td>110419.9</td>\n",
       "    </tr>\n",
       "  </tbody>\n",
       "</table>\n",
       "</div>"
      ],
      "text/plain": [
       "                   count          mean           std     min     25%     50%  \\\n",
       "rank               107.0    640.373832    243.400769   146.0   468.5   657.0   \n",
       "rank_change        107.0     -1.869159     36.035644  -115.0     0.0     0.0   \n",
       "revenue            107.0   6170.838318   4857.603078  2107.2  2902.5  4405.5   \n",
       "profit             107.0   -366.427103    424.221566 -2343.0  -472.3  -203.5   \n",
       "num. of employees  107.0  14258.289720  14633.555425   160.0  4526.5  9800.0   \n",
       "Market Cap         107.0  12004.483178  16866.463345   149.0  1828.1  6275.3   \n",
       "\n",
       "                        75%       max  \n",
       "rank                 854.50    1000.0  \n",
       "rank_change            0.00     193.0  \n",
       "revenue             7134.50   24634.0  \n",
       "profit               -83.25      -1.4  \n",
       "num. of employees  20018.00   84100.0  \n",
       "Market Cap         14462.80  110419.9  "
      ]
     },
     "execution_count": 760,
     "metadata": {},
     "output_type": "execute_result"
    }
   ],
   "source": [
    "df_neg_profi.describe().T"
   ]
  },
  {
   "cell_type": "code",
   "execution_count": 761,
   "id": "4c4e1a7a",
   "metadata": {},
   "outputs": [
    {
     "data": {
      "text/plain": [
       "sector\n",
       "energy                           22\n",
       "technology                       21\n",
       "retailing                         9\n",
       "financials                        8\n",
       "business services                 7\n",
       "health care                       7\n",
       "media                             7\n",
       "materials                         7\n",
       "hotels, restaurants & leisure     5\n",
       "transportation                    5\n",
       "industrials                       2\n",
       "motor vehicles & parts            1\n",
       "aerospace & defense               1\n",
       "household products                1\n",
       "apparel                           1\n",
       "food, beverages & tobacco         1\n",
       "food & drug stores                1\n",
       "engineering & construction        1\n",
       "telecommunications                0\n",
       "chemicals                         0\n",
       "wholesalers                       0\n",
       "Name: count, dtype: int64"
      ]
     },
     "execution_count": 761,
     "metadata": {},
     "output_type": "execute_result"
    }
   ],
   "source": [
    "counts_neg_profits=df_neg_profi['sector'].value_counts()\n",
    "counts_neg_profits"
   ]
  },
  {
   "cell_type": "code",
   "execution_count": 762,
   "id": "b7118f8a",
   "metadata": {},
   "outputs": [
    {
     "data": {
      "image/png": "[encoded data removed]",
      "text/plain": [
       "<Figure size 640x480 with 1 Axes>"
      ]
     },
     "metadata": {},
     "output_type": "display_data"
    }
   ],
   "source": [
    "plt.barh(y=counts_neg_profits.index,width=counts_neg_profits.values)\n",
    "plt.title('sectors that has negative profits')\n",
    "plt.show()"
   ]
  },
  {
   "cell_type": "code",
   "execution_count": 763,
   "id": "656a8bcc",
   "metadata": {},
   "outputs": [
    {
     "data": {
      "text/plain": [
       "general sector\n",
       "technology     28\n",
       "energy         22\n",
       "consumer       13\n",
       "services       12\n",
       "industrials    10\n",
       "financials      8\n",
       "healthcare      7\n",
       "materials       7\n",
       "Name: count, dtype: int64"
      ]
     },
     "execution_count": 763,
     "metadata": {},
     "output_type": "execute_result"
    }
   ],
   "source": [
    "counts_neg_profit_gen=df_neg_profi['general sector'].value_counts()\n",
    "counts_neg_profit_gen"
   ]
  },
  {
   "cell_type": "code",
   "execution_count": 764,
   "id": "190289a0",
   "metadata": {},
   "outputs": [
    {
     "data": {
      "image/png": "[encoded data removed]",
      "text/plain": [
       "<Figure size 640x480 with 1 Axes>"
      ]
     },
     "metadata": {},
     "output_type": "display_data"
    }
   ],
   "source": [
    "plt.barh(y=counts_neg_profit_gen.index,width=counts_neg_profit_gen.values)\n",
    "plt.title('general sectors that has negative profits')\n",
    "plt.show()"
   ]
  },
  {
   "cell_type": "code",
   "execution_count": 765,
   "id": "ad76e652",
   "metadata": {},
   "outputs": [
    {
     "data": {
      "text/plain": [
       "newcomer\n",
       "no     102\n",
       "yes      5\n",
       "Name: count, dtype: int64"
      ]
     },
     "execution_count": 765,
     "metadata": {},
     "output_type": "execute_result"
    }
   ],
   "source": [
    "df_neg_profi['newcomer'].value_counts()"
   ]
  },
  {
   "cell_type": "code",
   "execution_count": 766,
   "id": "687c89b6",
   "metadata": {},
   "outputs": [
    {
     "data": {
      "text/plain": [
       "ceo_woman\n",
       "no     99\n",
       "yes     8\n",
       "Name: count, dtype: int64"
      ]
     },
     "execution_count": 766,
     "metadata": {},
     "output_type": "execute_result"
    }
   ],
   "source": [
    "df_neg_profi['ceo_woman'].value_counts()"
   ]
  },
  {
   "cell_type": "code",
   "execution_count": 767,
   "id": "e0dc73c7",
   "metadata": {},
   "outputs": [
    {
     "data": {
      "text/plain": [
       "profitable\n",
       "no     107\n",
       "yes      0\n",
       "Name: count, dtype: int64"
      ]
     },
     "execution_count": 767,
     "metadata": {},
     "output_type": "execute_result"
    }
   ],
   "source": [
    "df_neg_profi['profitable'].value_counts()"
   ]
  },
  {
   "cell_type": "code",
   "execution_count": 768,
   "id": "04e69240",
   "metadata": {},
   "outputs": [
    {
     "data": {
      "text/plain": [
       "145    146\n",
       "147    148\n",
       "167    168\n",
       "169    170\n",
       "203    204\n",
       "Name: rank, dtype: int64"
      ]
     },
     "execution_count": 768,
     "metadata": {},
     "output_type": "execute_result"
    }
   ],
   "source": [
    "df_neg_profi['rank'].sort_values().head()"
   ]
  },
  {
   "cell_type": "code",
   "execution_count": 769,
   "id": "403ca3b6",
   "metadata": {},
   "outputs": [],
   "source": [
    "df_pos_profit=df[df['profit']>0].copy()"
   ]
  },
  {
   "cell_type": "code",
   "execution_count": 770,
   "id": "fb2949ef",
   "metadata": {},
   "outputs": [
    {
     "data": {
      "text/plain": [
       "profitable\n",
       "yes    883\n",
       "no       0\n",
       "Name: count, dtype: int64"
      ]
     },
     "execution_count": 770,
     "metadata": {},
     "output_type": "execute_result"
    }
   ],
   "source": [
    "df_pos_profit['profitable'].value_counts()"
   ]
  },
  {
   "cell_type": "code",
   "execution_count": 771,
   "id": "702e472a",
   "metadata": {},
   "outputs": [
    {
     "data": {
      "text/plain": [
       "0    1\n",
       "1    2\n",
       "2    3\n",
       "3    4\n",
       "4    5\n",
       "Name: rank, dtype: int64"
      ]
     },
     "execution_count": 771,
     "metadata": {},
     "output_type": "execute_result"
    }
   ],
   "source": [
    "df_pos_profit['rank'].sort_values().head()"
   ]
  },
  {
   "cell_type": "code",
   "execution_count": 772,
   "id": "70816839",
   "metadata": {},
   "outputs": [],
   "source": [
    "final_df['Revenue per Employee']=final_df['revenue']/final_df['num. of employees']"
   ]
  },
  {
   "cell_type": "code",
   "execution_count": 773,
   "id": "8ae1bc8c",
   "metadata": {},
   "outputs": [
    {
     "data": {
      "text/html": [
       "<div>\n",
       "<style scoped>\n",
       "    .dataframe tbody tr th:only-of-type {\n",
       "        vertical-align: middle;\n",
       "    }\n",
       "\n",
       "    .dataframe tbody tr th {\n",
       "        vertical-align: top;\n",
       "    }\n",
       "\n",
       "    .dataframe thead th {\n",
       "        text-align: right;\n",
       "    }\n",
       "</style>\n",
       "<table border=\"1\" class=\"dataframe\">\n",
       "  <thead>\n",
       "    <tr style=\"text-align: right;\">\n",
       "      <th></th>\n",
       "      <th>rank</th>\n",
       "      <th>rank_change</th>\n",
       "      <th>revenue</th>\n",
       "      <th>profit</th>\n",
       "      <th>num. of employees</th>\n",
       "      <th>sector</th>\n",
       "      <th>city</th>\n",
       "      <th>state</th>\n",
       "      <th>newcomer</th>\n",
       "      <th>ceo_founder</th>\n",
       "      <th>ceo_woman</th>\n",
       "      <th>profitable</th>\n",
       "      <th>Market Cap</th>\n",
       "      <th>general sector</th>\n",
       "      <th>Revenue per Employee</th>\n",
       "    </tr>\n",
       "  </thead>\n",
       "  <tbody>\n",
       "    <tr>\n",
       "      <th>78</th>\n",
       "      <td>79</td>\n",
       "      <td>-5.0</td>\n",
       "      <td>47702.0</td>\n",
       "      <td>3350.9</td>\n",
       "      <td>49077.0</td>\n",
       "      <td>financials</td>\n",
       "      <td>mayfield village</td>\n",
       "      <td>oh</td>\n",
       "      <td>no</td>\n",
       "      <td>no</td>\n",
       "      <td>yes</td>\n",
       "      <td>yes</td>\n",
       "      <td>65485.0</td>\n",
       "      <td>financials</td>\n",
       "      <td>0.971983</td>\n",
       "    </tr>\n",
       "    <tr>\n",
       "      <th>86</th>\n",
       "      <td>87</td>\n",
       "      <td>-29.0</td>\n",
       "      <td>42534.2</td>\n",
       "      <td>116.3</td>\n",
       "      <td>3242.0</td>\n",
       "      <td>financials</td>\n",
       "      <td>new york</td>\n",
       "      <td>ny</td>\n",
       "      <td>no</td>\n",
       "      <td>no</td>\n",
       "      <td>no</td>\n",
       "      <td>yes</td>\n",
       "      <td>1699.0</td>\n",
       "      <td>financials</td>\n",
       "      <td>13.119741</td>\n",
       "    </tr>\n",
       "    <tr>\n",
       "      <th>87</th>\n",
       "      <td>88</td>\n",
       "      <td>39.0</td>\n",
       "      <td>42078.0</td>\n",
       "      <td>60.0</td>\n",
       "      <td>4100.0</td>\n",
       "      <td>energy</td>\n",
       "      <td>houston</td>\n",
       "      <td>tx</td>\n",
       "      <td>no</td>\n",
       "      <td>no</td>\n",
       "      <td>no</td>\n",
       "      <td>yes</td>\n",
       "      <td>2131.0</td>\n",
       "      <td>energy</td>\n",
       "      <td>10.262927</td>\n",
       "    </tr>\n",
       "    <tr>\n",
       "      <th>88</th>\n",
       "      <td>89</td>\n",
       "      <td>16.0</td>\n",
       "      <td>40806.9</td>\n",
       "      <td>4637.7</td>\n",
       "      <td>6911.0</td>\n",
       "      <td>energy</td>\n",
       "      <td>houston</td>\n",
       "      <td>tx</td>\n",
       "      <td>no</td>\n",
       "      <td>no</td>\n",
       "      <td>no</td>\n",
       "      <td>yes</td>\n",
       "      <td>55122.0</td>\n",
       "      <td>energy</td>\n",
       "      <td>5.904630</td>\n",
       "    </tr>\n",
       "    <tr>\n",
       "      <th>98</th>\n",
       "      <td>99</td>\n",
       "      <td>-7.0</td>\n",
       "      <td>36347.0</td>\n",
       "      <td>1706.0</td>\n",
       "      <td>31518.0</td>\n",
       "      <td>energy</td>\n",
       "      <td>chicago</td>\n",
       "      <td>il</td>\n",
       "      <td>no</td>\n",
       "      <td>no</td>\n",
       "      <td>no</td>\n",
       "      <td>yes</td>\n",
       "      <td>42832.0</td>\n",
       "      <td>energy</td>\n",
       "      <td>1.153214</td>\n",
       "    </tr>\n",
       "  </tbody>\n",
       "</table>\n",
       "</div>"
      ],
      "text/plain": [
       "    rank  rank_change  revenue  profit  num. of employees      sector  \\\n",
       "78    79         -5.0  47702.0  3350.9            49077.0  financials   \n",
       "86    87        -29.0  42534.2   116.3             3242.0  financials   \n",
       "87    88         39.0  42078.0    60.0             4100.0      energy   \n",
       "88    89         16.0  40806.9  4637.7             6911.0      energy   \n",
       "98    99         -7.0  36347.0  1706.0            31518.0      energy   \n",
       "\n",
       "                city state newcomer ceo_founder ceo_woman profitable  \\\n",
       "78  mayfield village    oh       no          no       yes        yes   \n",
       "86          new york    ny       no          no        no        yes   \n",
       "87           houston    tx       no          no        no        yes   \n",
       "88           houston    tx       no          no        no        yes   \n",
       "98           chicago    il       no          no        no        yes   \n",
       "\n",
       "    Market Cap general sector  Revenue per Employee  \n",
       "78     65485.0     financials              0.971983  \n",
       "86      1699.0     financials             13.119741  \n",
       "87      2131.0         energy             10.262927  \n",
       "88     55122.0         energy              5.904630  \n",
       "98     42832.0         energy              1.153214  "
      ]
     },
     "execution_count": 773,
     "metadata": {},
     "output_type": "execute_result"
    }
   ],
   "source": [
    "final_df.head()"
   ]
  },
  {
   "cell_type": "code",
   "execution_count": 774,
   "id": "17ac0107",
   "metadata": {},
   "outputs": [],
   "source": [
    "for col in final_df.columns:\n",
    "    if final_df[col].dtype=='category':\n",
    "        final_df[col]=final_df[col].cat.codes"
   ]
  },
  {
   "cell_type": "code",
   "execution_count": 775,
   "id": "3a1b83b3",
   "metadata": {},
   "outputs": [
    {
     "data": {
      "text/html": [
       "<div>\n",
       "<style scoped>\n",
       "    .dataframe tbody tr th:only-of-type {\n",
       "        vertical-align: middle;\n",
       "    }\n",
       "\n",
       "    .dataframe tbody tr th {\n",
       "        vertical-align: top;\n",
       "    }\n",
       "\n",
       "    .dataframe thead th {\n",
       "        text-align: right;\n",
       "    }\n",
       "</style>\n",
       "<table border=\"1\" class=\"dataframe\">\n",
       "  <thead>\n",
       "    <tr style=\"text-align: right;\">\n",
       "      <th></th>\n",
       "      <th>rank</th>\n",
       "      <th>rank_change</th>\n",
       "      <th>revenue</th>\n",
       "      <th>profit</th>\n",
       "      <th>num. of employees</th>\n",
       "      <th>sector</th>\n",
       "      <th>city</th>\n",
       "      <th>state</th>\n",
       "      <th>newcomer</th>\n",
       "      <th>ceo_founder</th>\n",
       "      <th>ceo_woman</th>\n",
       "      <th>profitable</th>\n",
       "      <th>Market Cap</th>\n",
       "      <th>general sector</th>\n",
       "      <th>Revenue per Employee</th>\n",
       "    </tr>\n",
       "  </thead>\n",
       "  <tbody>\n",
       "    <tr>\n",
       "      <th>78</th>\n",
       "      <td>79</td>\n",
       "      <td>-5.0</td>\n",
       "      <td>47702.0</td>\n",
       "      <td>3350.9</td>\n",
       "      <td>49077.0</td>\n",
       "      <td>6</td>\n",
       "      <td>217</td>\n",
       "      <td>32</td>\n",
       "      <td>0</td>\n",
       "      <td>0</td>\n",
       "      <td>1</td>\n",
       "      <td>1</td>\n",
       "      <td>65485.0</td>\n",
       "      <td>2</td>\n",
       "      <td>0.971983</td>\n",
       "    </tr>\n",
       "    <tr>\n",
       "      <th>86</th>\n",
       "      <td>87</td>\n",
       "      <td>-29.0</td>\n",
       "      <td>42534.2</td>\n",
       "      <td>116.3</td>\n",
       "      <td>3242.0</td>\n",
       "      <td>6</td>\n",
       "      <td>259</td>\n",
       "      <td>31</td>\n",
       "      <td>0</td>\n",
       "      <td>0</td>\n",
       "      <td>0</td>\n",
       "      <td>1</td>\n",
       "      <td>1699.0</td>\n",
       "      <td>2</td>\n",
       "      <td>13.119741</td>\n",
       "    </tr>\n",
       "    <tr>\n",
       "      <th>87</th>\n",
       "      <td>88</td>\n",
       "      <td>39.0</td>\n",
       "      <td>42078.0</td>\n",
       "      <td>60.0</td>\n",
       "      <td>4100.0</td>\n",
       "      <td>4</td>\n",
       "      <td>164</td>\n",
       "      <td>40</td>\n",
       "      <td>0</td>\n",
       "      <td>0</td>\n",
       "      <td>0</td>\n",
       "      <td>1</td>\n",
       "      <td>2131.0</td>\n",
       "      <td>1</td>\n",
       "      <td>10.262927</td>\n",
       "    </tr>\n",
       "    <tr>\n",
       "      <th>88</th>\n",
       "      <td>89</td>\n",
       "      <td>16.0</td>\n",
       "      <td>40806.9</td>\n",
       "      <td>4637.7</td>\n",
       "      <td>6911.0</td>\n",
       "      <td>4</td>\n",
       "      <td>164</td>\n",
       "      <td>40</td>\n",
       "      <td>0</td>\n",
       "      <td>0</td>\n",
       "      <td>0</td>\n",
       "      <td>1</td>\n",
       "      <td>55122.0</td>\n",
       "      <td>1</td>\n",
       "      <td>5.904630</td>\n",
       "    </tr>\n",
       "    <tr>\n",
       "      <th>98</th>\n",
       "      <td>99</td>\n",
       "      <td>-7.0</td>\n",
       "      <td>36347.0</td>\n",
       "      <td>1706.0</td>\n",
       "      <td>31518.0</td>\n",
       "      <td>4</td>\n",
       "      <td>69</td>\n",
       "      <td>13</td>\n",
       "      <td>0</td>\n",
       "      <td>0</td>\n",
       "      <td>0</td>\n",
       "      <td>1</td>\n",
       "      <td>42832.0</td>\n",
       "      <td>1</td>\n",
       "      <td>1.153214</td>\n",
       "    </tr>\n",
       "  </tbody>\n",
       "</table>\n",
       "</div>"
      ],
      "text/plain": [
       "    rank  rank_change  revenue  profit  num. of employees  sector  city  \\\n",
       "78    79         -5.0  47702.0  3350.9            49077.0       6   217   \n",
       "86    87        -29.0  42534.2   116.3             3242.0       6   259   \n",
       "87    88         39.0  42078.0    60.0             4100.0       4   164   \n",
       "88    89         16.0  40806.9  4637.7             6911.0       4   164   \n",
       "98    99         -7.0  36347.0  1706.0            31518.0       4    69   \n",
       "\n",
       "    state  newcomer  ceo_founder  ceo_woman  profitable  Market Cap  \\\n",
       "78     32         0            0          1           1     65485.0   \n",
       "86     31         0            0          0           1      1699.0   \n",
       "87     40         0            0          0           1      2131.0   \n",
       "88     40         0            0          0           1     55122.0   \n",
       "98     13         0            0          0           1     42832.0   \n",
       "\n",
       "    general sector  Revenue per Employee  \n",
       "78               2              0.971983  \n",
       "86               2             13.119741  \n",
       "87               1             10.262927  \n",
       "88               1              5.904630  \n",
       "98               1              1.153214  "
      ]
     },
     "execution_count": 775,
     "metadata": {},
     "output_type": "execute_result"
    }
   ],
   "source": [
    "final_df.head()"
   ]
  },
  {
   "cell_type": "code",
   "execution_count": 776,
   "id": "a11e0421",
   "metadata": {},
   "outputs": [
    {
     "data": {
      "image/png": "[encoded data removed]",
      "text/plain": [
       "<Figure size 1200x800 with 2 Axes>"
      ]
     },
     "metadata": {},
     "output_type": "display_data"
    }
   ],
   "source": [
    "plt.figure(figsize=(12,8))\n",
    "sns.heatmap(final_df.corr(),annot=True,fmt='.2f',vmin=-1,vmax=1)\n",
    "plt.show()"
   ]
  },
  {
   "cell_type": "code",
   "execution_count": 777,
   "id": "049e3f0c",
   "metadata": {},
   "outputs": [],
   "source": [
    "selected_df=final_df[['Market Cap','profitable','revenue','rank','profit','num. of employees']].copy()"
   ]
  },
  {
   "cell_type": "code",
   "execution_count": 778,
   "id": "2e14aa85",
   "metadata": {},
   "outputs": [
    {
     "data": {
      "text/plain": [
       "profitable\n",
       "1    744\n",
       "0    107\n",
       "Name: count, dtype: int64"
      ]
     },
     "execution_count": 778,
     "metadata": {},
     "output_type": "execute_result"
    }
   ],
   "source": [
    "selected_df['profitable'].value_counts()"
   ]
  },
  {
   "cell_type": "code",
   "execution_count": 779,
   "id": "dca075d4",
   "metadata": {},
   "outputs": [
    {
     "data": {
      "text/html": [
       "<div>\n",
       "<style scoped>\n",
       "    .dataframe tbody tr th:only-of-type {\n",
       "        vertical-align: middle;\n",
       "    }\n",
       "\n",
       "    .dataframe tbody tr th {\n",
       "        vertical-align: top;\n",
       "    }\n",
       "\n",
       "    .dataframe thead th {\n",
       "        text-align: right;\n",
       "    }\n",
       "</style>\n",
       "<table border=\"1\" class=\"dataframe\">\n",
       "  <thead>\n",
       "    <tr style=\"text-align: right;\">\n",
       "      <th></th>\n",
       "      <th>Market Cap</th>\n",
       "      <th>profitable</th>\n",
       "      <th>revenue</th>\n",
       "      <th>rank</th>\n",
       "      <th>profit</th>\n",
       "      <th>num. of employees</th>\n",
       "    </tr>\n",
       "  </thead>\n",
       "  <tbody>\n",
       "    <tr>\n",
       "      <th>78</th>\n",
       "      <td>65485.0</td>\n",
       "      <td>1</td>\n",
       "      <td>47702.0</td>\n",
       "      <td>79</td>\n",
       "      <td>3350.9</td>\n",
       "      <td>49077.0</td>\n",
       "    </tr>\n",
       "    <tr>\n",
       "      <th>86</th>\n",
       "      <td>1699.0</td>\n",
       "      <td>1</td>\n",
       "      <td>42534.2</td>\n",
       "      <td>87</td>\n",
       "      <td>116.3</td>\n",
       "      <td>3242.0</td>\n",
       "    </tr>\n",
       "    <tr>\n",
       "      <th>87</th>\n",
       "      <td>2131.0</td>\n",
       "      <td>1</td>\n",
       "      <td>42078.0</td>\n",
       "      <td>88</td>\n",
       "      <td>60.0</td>\n",
       "      <td>4100.0</td>\n",
       "    </tr>\n",
       "    <tr>\n",
       "      <th>88</th>\n",
       "      <td>55122.0</td>\n",
       "      <td>1</td>\n",
       "      <td>40806.9</td>\n",
       "      <td>89</td>\n",
       "      <td>4637.7</td>\n",
       "      <td>6911.0</td>\n",
       "    </tr>\n",
       "    <tr>\n",
       "      <th>98</th>\n",
       "      <td>42832.0</td>\n",
       "      <td>1</td>\n",
       "      <td>36347.0</td>\n",
       "      <td>99</td>\n",
       "      <td>1706.0</td>\n",
       "      <td>31518.0</td>\n",
       "    </tr>\n",
       "  </tbody>\n",
       "</table>\n",
       "</div>"
      ],
      "text/plain": [
       "    Market Cap  profitable  revenue  rank  profit  num. of employees\n",
       "78     65485.0           1  47702.0    79  3350.9            49077.0\n",
       "86      1699.0           1  42534.2    87   116.3             3242.0\n",
       "87      2131.0           1  42078.0    88    60.0             4100.0\n",
       "88     55122.0           1  40806.9    89  4637.7             6911.0\n",
       "98     42832.0           1  36347.0    99  1706.0            31518.0"
      ]
     },
     "execution_count": 779,
     "metadata": {},
     "output_type": "execute_result"
    }
   ],
   "source": [
    "selected_df.head()"
   ]
  },
  {
   "cell_type": "code",
   "execution_count": 780,
   "id": "78be980e",
   "metadata": {},
   "outputs": [],
   "source": [
    "X=selected_df.drop('profit',axis=1)\n",
    "Y=selected_df['profit']"
   ]
  },
  {
   "cell_type": "code",
   "execution_count": 781,
   "id": "d3f751f2",
   "metadata": {},
   "outputs": [],
   "source": [
    "x_train,x_test,y_train,y_test=train_test_split(X,Y,random_state=42,test_size=0.2,shuffle=True,stratify=selected_df['profitable'])\n",
    "# x_train,x_test,y_train,y_test=train_test_split(X,Y,random_state=42,test_size=0.2,shuffle=True)"
   ]
  },
  {
   "cell_type": "code",
   "execution_count": 782,
   "id": "64864062",
   "metadata": {},
   "outputs": [
    {
     "data": {
      "text/plain": [
       "profitable\n",
       "1    595\n",
       "0     85\n",
       "Name: count, dtype: int64"
      ]
     },
     "execution_count": 782,
     "metadata": {},
     "output_type": "execute_result"
    }
   ],
   "source": [
    "x_train['profitable'].value_counts()"
   ]
  },
  {
   "cell_type": "code",
   "execution_count": 783,
   "id": "49000261",
   "metadata": {},
   "outputs": [],
   "source": [
    "from sklearn.preprocessing import MinMaxScaler"
   ]
  },
  {
   "cell_type": "code",
   "execution_count": 784,
   "id": "ac40a34f",
   "metadata": {},
   "outputs": [],
   "source": [
    "st=StandardScaler()\n",
    "nor_scaler=MinMaxScaler()\n",
    "x_train_scaled=nor_scaler.fit_transform(x_train)\n",
    "x_test_scaled=nor_scaler.transform(x_test)"
   ]
  },
  {
   "cell_type": "code",
   "execution_count": 785,
   "id": "5542b494",
   "metadata": {},
   "outputs": [
    {
     "name": "stdout",
     "output_type": "stream",
     "text": [
      "for linear Regression:\n",
      "r2 score 0.4 , mse 431686.02 , mae 447.04 , rmse 657.03\n",
      "---------------------------------------------------------------------\n",
      "for Support Vector Machin:\n",
      "r2 score -0.01 , mse 729623.49 , mae 553.97 , rmse 854.18\n",
      "---------------------------------------------------------------------\n",
      "for K Neighbors:\n",
      "r2 score 0.52 , mse 348981.41 , mae 398.4 , rmse 590.75\n",
      "---------------------------------------------------------------------\n",
      "for Random Regression:\n",
      "r2 score 0.51 , mse 356685.03 , mae 388.37 , rmse 597.23\n",
      "---------------------------------------------------------------------\n",
      "for Decision Tree:\n",
      "r2 score 0.28 , mse 518601.64 , mae 454.88 , rmse 720.14\n",
      "---------------------------------------------------------------------\n",
      "for ada boosting:\n",
      "r2 score 0.44 , mse 401371.35 , mae 439.65 , rmse 633.54\n",
      "---------------------------------------------------------------------\n",
      "for gradient boosting:\n",
      "r2 score 0.49 , mse 366753.36 , mae 402.86 , rmse 605.6\n",
      "---------------------------------------------------------------------\n",
      "for XG boosting:\n",
      "r2 score 0.52 , mse 346175.61 , mae 392.42 , rmse 588.37\n",
      "---------------------------------------------------------------------\n"
     ]
    }
   ],
   "source": [
    "models={'linear Regression':LinearRegression(),\n",
    "        'Support Vector Machin':SVR(),\n",
    "        'K Neighbors':KNeighborsRegressor(),\n",
    "        'Random Regression': RandomForestRegressor(),\n",
    "        'Decision Tree':DecisionTreeRegressor(),\n",
    "        'ada boosting':AdaBoostRegressor(),\n",
    "        'gradient boosting':GradientBoostingRegressor(),\n",
    "        'XG boosting':XGBRFRegressor()}\n",
    "\n",
    "\n",
    "\n",
    "from time import time\n",
    "\n",
    "fit_time={}\n",
    "scores={}\n",
    "label_scores=['r2','MSE','MAE','RMSE']\n",
    "\n",
    "for name,model in models.items():\n",
    "    print(f'for {name}:')\n",
    "    start=time()\n",
    "    model.fit(x_train_scaled,y_train)\n",
    "    fit_time[name]=time()-start\n",
    "    y_pred=model.predict(x_test_scaled)\n",
    "    r2Score=round(r2_score(y_pred=y_pred,y_true=y_test),2)\n",
    "    mse=round(mean_squared_error(y_pred=y_pred,y_true=y_test),2)\n",
    "    rmse=round(root_mean_squared_error(y_pred=y_pred,y_true=y_test),2)\n",
    "    mae=round(mean_absolute_error(y_pred=y_pred,y_true=y_test),2)\n",
    "    scores[name]=[r2Score,mse,mae,rmse]\n",
    "    print(f'r2 score {r2Score} , mse {mse} , mae {mae} , rmse {rmse}')\n",
    "    print('---------------------------------------------------------------------')"
   ]
  },
  {
   "cell_type": "markdown",
   "id": "fa9f147a",
   "metadata": {},
   "source": [
    "Use polynomial"
   ]
  },
  {
   "cell_type": "code",
   "execution_count": 793,
   "id": "b40568ea",
   "metadata": {},
   "outputs": [],
   "source": [
    "poly_features=PolynomialFeatures(degree=4,include_bias=False)\n",
    "x_poly_train=poly_features.fit_transform(x_train)\n",
    "x_poly_test=poly_features.transform(x_test)"
   ]
  },
  {
   "cell_type": "code",
   "execution_count": 794,
   "id": "712899e4",
   "metadata": {},
   "outputs": [],
   "source": [
    "x_poly_train_scaled=nor_scaler.fit_transform(x_poly_train)\n",
    "x_poly_test_scaled=nor_scaler.transform(x_poly_test)"
   ]
  },
  {
   "cell_type": "code",
   "execution_count": 795,
   "id": "7b4f1d13",
   "metadata": {},
   "outputs": [
    {
     "name": "stdout",
     "output_type": "stream",
     "text": [
      "r2 score 0.53 , mse 338823.43 , mae 387.27 , rmse 582.09\n"
     ]
    }
   ],
   "source": [
    "lr=Ridge(alpha=0.2,max_iter=100_000)\n",
    "lr.fit(x_poly_train_scaled,y_train)\n",
    "y_pred=lr.predict(x_poly_test_scaled)\n",
    "\n",
    "r2Score=round(r2_score(y_pred=y_pred,y_true=y_test),2)\n",
    "mse=round(mean_squared_error(y_pred=y_pred,y_true=y_test),2)\n",
    "rmse=round(root_mean_squared_error(y_pred=y_pred,y_true=y_test),2)\n",
    "mae=round(mean_absolute_error(y_pred=y_pred,y_true=y_test),2)\n",
    "print(f'r2 score {r2Score} , mse {mse} , mae {mae} , rmse {rmse}')"
   ]
  },
  {
   "cell_type": "code",
   "execution_count": 789,
   "id": "5c010bbb",
   "metadata": {},
   "outputs": [
    {
     "data": {
      "text/plain": [
       "<Axes: xlabel='profitable', ylabel='count'>"
      ]
     },
     "execution_count": 789,
     "metadata": {},
     "output_type": "execute_result"
    },
    {
     "data": {
      "image/png": "[encoded data removed]",
      "text/plain": [
       "<Figure size 640x480 with 1 Axes>"
      ]
     },
     "metadata": {},
     "output_type": "display_data"
    }
   ],
   "source": [
    "sns.countplot(x='profitable',data=df)"
   ]
  },
  {
   "cell_type": "code",
   "execution_count": 790,
   "id": "901a7608",
   "metadata": {},
   "outputs": [
    {
     "name": "stdout",
     "output_type": "stream",
     "text": [
      "for XG boosting:\n",
      "r2 score 0.49 , mse 368106.32 , mae 393.65 , rmse 606.72\n",
      "---------------------------------------------------------------------\n"
     ]
    }
   ],
   "source": [
    "model=RandomForestRegressor()\n",
    "\n",
    "print(f'for {name}:')\n",
    "start=time()\n",
    "model.fit(x_train_scaled,y_train)\n",
    "fit_time[name]=time()-start\n",
    "y_pred=model.predict(x_test_scaled)\n",
    "r2Score=round(r2_score(y_pred=y_pred,y_true=y_test),2)\n",
    "mse=round(mean_squared_error(y_pred=y_pred,y_true=y_test),2)\n",
    "rmse=round(root_mean_squared_error(y_pred=y_pred,y_true=y_test),2)\n",
    "mae=round(mean_absolute_error(y_pred=y_pred,y_true=y_test),2)\n",
    "scores[name]=[r2Score,mse,mae,rmse]\n",
    "print(f'r2 score {r2Score} , mse {mse} , mae {mae} , rmse {rmse}')\n",
    "print('---------------------------------------------------------------------')"
   ]
  },
  {
   "cell_type": "code",
   "execution_count": 791,
   "id": "1ca6c7ab",
   "metadata": {},
   "outputs": [
    {
     "data": {
      "image/png": "[encoded data removed]",
      "text/plain": [
       "<Figure size 640x480 with 1 Axes>"
      ]
     },
     "metadata": {},
     "output_type": "display_data"
    }
   ],
   "source": [
    "# After fitting your model\n",
    "importances = model.feature_importances_\n",
    "feature_names = X.columns\n",
    "feat_imp = pd.Series(importances, index=feature_names).sort_values(ascending=False)\n",
    "\n",
    "# Plot\n",
    "feat_imp.plot(kind='bar')\n",
    "plt.title(\"Feature Importances\")\n",
    "plt.show()"
   ]
  },
  {
   "cell_type": "code",
   "execution_count": 792,
   "id": "37b87588",
   "metadata": {},
   "outputs": [],
   "source": [
    "# # Define the RandomForest model\n",
    "# rf_model = XGBRFRegressor(learning_rate=0.2)\n",
    "\n",
    "# # Define the parameter grid for GridSearchCV\n",
    "# param_grid = {\n",
    "#     'min_child_weight': [1, 3],\n",
    "#     'subsample': [0.6, 0.8, 1.0],\n",
    "#     'colsample_bytree': [0.6, 0.8, 1.0],\n",
    "#     'gamma': [0, 0.1, 0.3],\n",
    "#     'reg_lambda': [0.1, 1, 10]\n",
    "# }\n",
    "\n",
    "\n",
    "# # Set up GridSearchCV\n",
    "# grid_search_rf = GridSearchCV(estimator=rf_model, param_grid=param_grid, cv=5, scoring='r2', refit=True, n_jobs=-1)\n",
    "\n",
    "# # Fit the grid search\n",
    "# grid_search_rf.fit(x_train_scaled, y_train)\n",
    "\n",
    "# # Print the best parameters and the best score\n",
    "# print(\"Best parameters found: \", grid_search_rf.best_params_)\n",
    "# print(\"Best score: \", grid_search_rf.best_score_)"
   ]
  },
  {
   "cell_type": "code",
   "execution_count": null,
   "id": "5ffd3df4",
   "metadata": {},
   "outputs": [],
   "source": []
  }
 ],
 "metadata": {
  "kernelspec": {
   "display_name": "base",
   "language": "python",
   "name": "python3"
  },
  "language_info": {
   "codemirror_mode": {
    "name": "ipython",
    "version": 3
   },
   "file_extension": ".py",
   "mimetype": "text/x-python",
   "name": "python",
   "nbconvert_exporter": "python",
   "pygments_lexer": "ipython3",
   "version": "3.12.7"
  }
 },
 "nbformat": 4,
 "nbformat_minor": 5
}
